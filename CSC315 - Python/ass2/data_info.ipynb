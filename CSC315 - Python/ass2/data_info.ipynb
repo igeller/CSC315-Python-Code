{
  "nbformat": 4,
  "nbformat_minor": 0,
  "metadata": {
    "kernelspec": {
      "name": "pycharm-ca2689a5",
      "language": "python",
      "display_name": "PyCharm (ass2)"
    },
    "language_info": {
      "codemirror_mode": {
        "name": "ipython",
        "version": 3
      },
      "file_extension": ".py",
      "mimetype": "text/x-python",
      "name": "python",
      "nbconvert_exporter": "python",
      "pygments_lexer": "ipython3",
      "version": "3.8.3"
    },
    "colab": {
      "name": "data_info.ipynb",
      "provenance": [],
      "include_colab_link": true
    }
  },
  "cells": [
    {
      "cell_type": "markdown",
      "metadata": {
        "id": "view-in-github",
        "colab_type": "text"
      },
      "source": [
        "<a href=\"https://colab.research.google.com/github/igeller/CSC315-Python-Code/blob/master/CSC315%20-%20Python/ass2/data_info.ipynb\" target=\"_parent\"><img src=\"https://colab.research.google.com/assets/colab-badge.svg\" alt=\"Open In Colab\"/></a>"
      ]
    },
    {
      "cell_type": "markdown",
      "metadata": {
        "collapsed": false,
        "pycharm": {
          "name": "#%% md\n"
        },
        "id": "Wn5yfBGTxvEp"
      },
      "source": [
        "# Isabelle Geller: Assignment 2"
      ]
    },
    {
      "cell_type": "code",
      "metadata": {
        "pycharm": {
          "name": "#%%\n"
        },
        "id": "25S3c29gxvEq"
      },
      "source": [
        "import pandas as pd\n",
        "import numpy as np\n",
        "import matplotlib\n",
        "import matplotlib.pyplot as plt\n",
        "from statsmodels.tsa.seasonal import seasonal_decompose"
      ],
      "execution_count": 4,
      "outputs": []
    },
    {
      "cell_type": "markdown",
      "metadata": {
        "collapsed": false,
        "pycharm": {
          "name": "#%% md\n"
        },
        "id": "qfEq1q06xvEx"
      },
      "source": [
        "#### Step 1: load data from file"
      ]
    },
    {
      "cell_type": "code",
      "metadata": {
        "pycharm": {
          "name": "#%%\n"
        },
        "id": "em3qLD9QxvEx",
        "outputId": "1264f8b0-a6ce-4573-885e-d694355a5897",
        "colab": {
          "base_uri": "https://localhost:8080/",
          "height": 430
        }
      },
      "source": [
        "import pandas as pd\n",
        "import numpy as np\n",
        "import matplotlib\n",
        "import matplotlib.pyplot as plt\n",
        "\n",
        "data = pd.read_csv('ecg_data_nan.csv', sep=',')"
      ],
      "execution_count": 5,
      "outputs": [
        {
          "output_type": "error",
          "ename": "FileNotFoundError",
          "evalue": "ignored",
          "traceback": [
            "\u001b[0;31m---------------------------------------------------------------------------\u001b[0m",
            "\u001b[0;31mFileNotFoundError\u001b[0m                         Traceback (most recent call last)",
            "\u001b[0;32m<ipython-input-5-4eb99fbd8571>\u001b[0m in \u001b[0;36m<module>\u001b[0;34m()\u001b[0m\n\u001b[1;32m      4\u001b[0m \u001b[0;32mimport\u001b[0m \u001b[0mmatplotlib\u001b[0m\u001b[0;34m.\u001b[0m\u001b[0mpyplot\u001b[0m \u001b[0;32mas\u001b[0m \u001b[0mplt\u001b[0m\u001b[0;34m\u001b[0m\u001b[0;34m\u001b[0m\u001b[0m\n\u001b[1;32m      5\u001b[0m \u001b[0;34m\u001b[0m\u001b[0m\n\u001b[0;32m----> 6\u001b[0;31m \u001b[0mdata\u001b[0m \u001b[0;34m=\u001b[0m \u001b[0mpd\u001b[0m\u001b[0;34m.\u001b[0m\u001b[0mread_csv\u001b[0m\u001b[0;34m(\u001b[0m\u001b[0;34m'ecg_data_nan.csv'\u001b[0m\u001b[0;34m,\u001b[0m \u001b[0msep\u001b[0m\u001b[0;34m=\u001b[0m\u001b[0;34m','\u001b[0m\u001b[0;34m)\u001b[0m\u001b[0;34m\u001b[0m\u001b[0;34m\u001b[0m\u001b[0m\n\u001b[0m",
            "\u001b[0;32m/usr/local/lib/python3.6/dist-packages/pandas/io/parsers.py\u001b[0m in \u001b[0;36mread_csv\u001b[0;34m(filepath_or_buffer, sep, delimiter, header, names, index_col, usecols, squeeze, prefix, mangle_dupe_cols, dtype, engine, converters, true_values, false_values, skipinitialspace, skiprows, skipfooter, nrows, na_values, keep_default_na, na_filter, verbose, skip_blank_lines, parse_dates, infer_datetime_format, keep_date_col, date_parser, dayfirst, cache_dates, iterator, chunksize, compression, thousands, decimal, lineterminator, quotechar, quoting, doublequote, escapechar, comment, encoding, dialect, error_bad_lines, warn_bad_lines, delim_whitespace, low_memory, memory_map, float_precision)\u001b[0m\n\u001b[1;32m    686\u001b[0m     )\n\u001b[1;32m    687\u001b[0m \u001b[0;34m\u001b[0m\u001b[0m\n\u001b[0;32m--> 688\u001b[0;31m     \u001b[0;32mreturn\u001b[0m \u001b[0m_read\u001b[0m\u001b[0;34m(\u001b[0m\u001b[0mfilepath_or_buffer\u001b[0m\u001b[0;34m,\u001b[0m \u001b[0mkwds\u001b[0m\u001b[0;34m)\u001b[0m\u001b[0;34m\u001b[0m\u001b[0;34m\u001b[0m\u001b[0m\n\u001b[0m\u001b[1;32m    689\u001b[0m \u001b[0;34m\u001b[0m\u001b[0m\n\u001b[1;32m    690\u001b[0m \u001b[0;34m\u001b[0m\u001b[0m\n",
            "\u001b[0;32m/usr/local/lib/python3.6/dist-packages/pandas/io/parsers.py\u001b[0m in \u001b[0;36m_read\u001b[0;34m(filepath_or_buffer, kwds)\u001b[0m\n\u001b[1;32m    452\u001b[0m \u001b[0;34m\u001b[0m\u001b[0m\n\u001b[1;32m    453\u001b[0m     \u001b[0;31m# Create the parser.\u001b[0m\u001b[0;34m\u001b[0m\u001b[0;34m\u001b[0m\u001b[0;34m\u001b[0m\u001b[0m\n\u001b[0;32m--> 454\u001b[0;31m     \u001b[0mparser\u001b[0m \u001b[0;34m=\u001b[0m \u001b[0mTextFileReader\u001b[0m\u001b[0;34m(\u001b[0m\u001b[0mfp_or_buf\u001b[0m\u001b[0;34m,\u001b[0m \u001b[0;34m**\u001b[0m\u001b[0mkwds\u001b[0m\u001b[0;34m)\u001b[0m\u001b[0;34m\u001b[0m\u001b[0;34m\u001b[0m\u001b[0m\n\u001b[0m\u001b[1;32m    455\u001b[0m \u001b[0;34m\u001b[0m\u001b[0m\n\u001b[1;32m    456\u001b[0m     \u001b[0;32mif\u001b[0m \u001b[0mchunksize\u001b[0m \u001b[0;32mor\u001b[0m \u001b[0miterator\u001b[0m\u001b[0;34m:\u001b[0m\u001b[0;34m\u001b[0m\u001b[0;34m\u001b[0m\u001b[0m\n",
            "\u001b[0;32m/usr/local/lib/python3.6/dist-packages/pandas/io/parsers.py\u001b[0m in \u001b[0;36m__init__\u001b[0;34m(self, f, engine, **kwds)\u001b[0m\n\u001b[1;32m    946\u001b[0m             \u001b[0mself\u001b[0m\u001b[0;34m.\u001b[0m\u001b[0moptions\u001b[0m\u001b[0;34m[\u001b[0m\u001b[0;34m\"has_index_names\"\u001b[0m\u001b[0;34m]\u001b[0m \u001b[0;34m=\u001b[0m \u001b[0mkwds\u001b[0m\u001b[0;34m[\u001b[0m\u001b[0;34m\"has_index_names\"\u001b[0m\u001b[0;34m]\u001b[0m\u001b[0;34m\u001b[0m\u001b[0;34m\u001b[0m\u001b[0m\n\u001b[1;32m    947\u001b[0m \u001b[0;34m\u001b[0m\u001b[0m\n\u001b[0;32m--> 948\u001b[0;31m         \u001b[0mself\u001b[0m\u001b[0;34m.\u001b[0m\u001b[0m_make_engine\u001b[0m\u001b[0;34m(\u001b[0m\u001b[0mself\u001b[0m\u001b[0;34m.\u001b[0m\u001b[0mengine\u001b[0m\u001b[0;34m)\u001b[0m\u001b[0;34m\u001b[0m\u001b[0;34m\u001b[0m\u001b[0m\n\u001b[0m\u001b[1;32m    949\u001b[0m \u001b[0;34m\u001b[0m\u001b[0m\n\u001b[1;32m    950\u001b[0m     \u001b[0;32mdef\u001b[0m \u001b[0mclose\u001b[0m\u001b[0;34m(\u001b[0m\u001b[0mself\u001b[0m\u001b[0;34m)\u001b[0m\u001b[0;34m:\u001b[0m\u001b[0;34m\u001b[0m\u001b[0;34m\u001b[0m\u001b[0m\n",
            "\u001b[0;32m/usr/local/lib/python3.6/dist-packages/pandas/io/parsers.py\u001b[0m in \u001b[0;36m_make_engine\u001b[0;34m(self, engine)\u001b[0m\n\u001b[1;32m   1178\u001b[0m     \u001b[0;32mdef\u001b[0m \u001b[0m_make_engine\u001b[0m\u001b[0;34m(\u001b[0m\u001b[0mself\u001b[0m\u001b[0;34m,\u001b[0m \u001b[0mengine\u001b[0m\u001b[0;34m=\u001b[0m\u001b[0;34m\"c\"\u001b[0m\u001b[0;34m)\u001b[0m\u001b[0;34m:\u001b[0m\u001b[0;34m\u001b[0m\u001b[0;34m\u001b[0m\u001b[0m\n\u001b[1;32m   1179\u001b[0m         \u001b[0;32mif\u001b[0m \u001b[0mengine\u001b[0m \u001b[0;34m==\u001b[0m \u001b[0;34m\"c\"\u001b[0m\u001b[0;34m:\u001b[0m\u001b[0;34m\u001b[0m\u001b[0;34m\u001b[0m\u001b[0m\n\u001b[0;32m-> 1180\u001b[0;31m             \u001b[0mself\u001b[0m\u001b[0;34m.\u001b[0m\u001b[0m_engine\u001b[0m \u001b[0;34m=\u001b[0m \u001b[0mCParserWrapper\u001b[0m\u001b[0;34m(\u001b[0m\u001b[0mself\u001b[0m\u001b[0;34m.\u001b[0m\u001b[0mf\u001b[0m\u001b[0;34m,\u001b[0m \u001b[0;34m**\u001b[0m\u001b[0mself\u001b[0m\u001b[0;34m.\u001b[0m\u001b[0moptions\u001b[0m\u001b[0;34m)\u001b[0m\u001b[0;34m\u001b[0m\u001b[0;34m\u001b[0m\u001b[0m\n\u001b[0m\u001b[1;32m   1181\u001b[0m         \u001b[0;32melse\u001b[0m\u001b[0;34m:\u001b[0m\u001b[0;34m\u001b[0m\u001b[0;34m\u001b[0m\u001b[0m\n\u001b[1;32m   1182\u001b[0m             \u001b[0;32mif\u001b[0m \u001b[0mengine\u001b[0m \u001b[0;34m==\u001b[0m \u001b[0;34m\"python\"\u001b[0m\u001b[0;34m:\u001b[0m\u001b[0;34m\u001b[0m\u001b[0;34m\u001b[0m\u001b[0m\n",
            "\u001b[0;32m/usr/local/lib/python3.6/dist-packages/pandas/io/parsers.py\u001b[0m in \u001b[0;36m__init__\u001b[0;34m(self, src, **kwds)\u001b[0m\n\u001b[1;32m   2008\u001b[0m         \u001b[0mkwds\u001b[0m\u001b[0;34m[\u001b[0m\u001b[0;34m\"usecols\"\u001b[0m\u001b[0;34m]\u001b[0m \u001b[0;34m=\u001b[0m \u001b[0mself\u001b[0m\u001b[0;34m.\u001b[0m\u001b[0musecols\u001b[0m\u001b[0;34m\u001b[0m\u001b[0;34m\u001b[0m\u001b[0m\n\u001b[1;32m   2009\u001b[0m \u001b[0;34m\u001b[0m\u001b[0m\n\u001b[0;32m-> 2010\u001b[0;31m         \u001b[0mself\u001b[0m\u001b[0;34m.\u001b[0m\u001b[0m_reader\u001b[0m \u001b[0;34m=\u001b[0m \u001b[0mparsers\u001b[0m\u001b[0;34m.\u001b[0m\u001b[0mTextReader\u001b[0m\u001b[0;34m(\u001b[0m\u001b[0msrc\u001b[0m\u001b[0;34m,\u001b[0m \u001b[0;34m**\u001b[0m\u001b[0mkwds\u001b[0m\u001b[0;34m)\u001b[0m\u001b[0;34m\u001b[0m\u001b[0;34m\u001b[0m\u001b[0m\n\u001b[0m\u001b[1;32m   2011\u001b[0m         \u001b[0mself\u001b[0m\u001b[0;34m.\u001b[0m\u001b[0munnamed_cols\u001b[0m \u001b[0;34m=\u001b[0m \u001b[0mself\u001b[0m\u001b[0;34m.\u001b[0m\u001b[0m_reader\u001b[0m\u001b[0;34m.\u001b[0m\u001b[0munnamed_cols\u001b[0m\u001b[0;34m\u001b[0m\u001b[0;34m\u001b[0m\u001b[0m\n\u001b[1;32m   2012\u001b[0m \u001b[0;34m\u001b[0m\u001b[0m\n",
            "\u001b[0;32mpandas/_libs/parsers.pyx\u001b[0m in \u001b[0;36mpandas._libs.parsers.TextReader.__cinit__\u001b[0;34m()\u001b[0m\n",
            "\u001b[0;32mpandas/_libs/parsers.pyx\u001b[0m in \u001b[0;36mpandas._libs.parsers.TextReader._setup_parser_source\u001b[0;34m()\u001b[0m\n",
            "\u001b[0;31mFileNotFoundError\u001b[0m: [Errno 2] No such file or directory: 'ecg_data_nan.csv'"
          ]
        }
      ]
    },
    {
      "cell_type": "markdown",
      "metadata": {
        "collapsed": false,
        "pycharm": {
          "name": "#%% md\n"
        },
        "id": "nuwcrXTmxvE1"
      },
      "source": [
        "#### Step2: check and handle missing values"
      ]
    },
    {
      "cell_type": "code",
      "metadata": {
        "pycharm": {
          "name": "#%%\n"
        },
        "id": "LwKYcELrxvE1"
      },
      "source": [
        "data.interpolate(method='linear', axis=0, inplace=True)\n",
        "data = data['Amp'].values"
      ],
      "execution_count": null,
      "outputs": []
    },
    {
      "cell_type": "markdown",
      "metadata": {
        "collapsed": false,
        "id": "x6-0t4fcxvE6"
      },
      "source": [
        "#### Step3: plot the signal"
      ]
    },
    {
      "cell_type": "code",
      "metadata": {
        "pycharm": {
          "name": "#%%\n"
        },
        "id": "2hUbqN63xvE6"
      },
      "source": [
        "f=1.0\n",
        "fs = 1000 # sampling rate (Hz)\n",
        "Ts = 1/fs # sampling intervel (seconds)\n",
        "N = data.shape[0] # total number of data points in the ECG signal x\n",
        "Duration= N/fs #seconds\n",
        "Duration\n",
        "\n",
        "# time points\n",
        "t = np.linspace(0, Duration-Ts, N) #array of time points\n",
        "x = t #x axis is the time in seconds\n",
        "y = data #y axis is the apmplitude or the value in each row of the data we parsed\n",
        "\n",
        "#plotting\n",
        "fig, ax = plt.subplots()\n",
        "ax.plot(x, y, linestyle='-')\n",
        "ax.set_title('ECG signal x')\n",
        "ax.set_xlabel('Time [s]')\n",
        "ax.set_ylabel('Signal Amplitude')\n",
        "ax.grid(True)\n",
        "\n"
      ],
      "execution_count": null,
      "outputs": []
    },
    {
      "cell_type": "markdown",
      "metadata": {
        "collapsed": false,
        "pycharm": {
          "name": "#%% md\n"
        },
        "id": "3XuXd_pUxvFA"
      },
      "source": [
        "#### Step4: smooth the signal using cross-correlation with Gaussian Kernel (remove noise and may need to adjust kernel parameter)\n",
        "#tg = gaussian timepoints so that is on the xaxis"
      ]
    },
    {
      "cell_type": "code",
      "metadata": {
        "pycharm": {
          "name": "#%%\n"
        },
        "id": "nGxUAGCNxvFB"
      },
      "source": [
        "tg = np.linspace(-0.01, 0.01, 21)\n",
        "sigma= 0.005\n",
        "GaussianKernel = np.exp(-tg**2/(2*sigma**2))\n",
        "GaussianKernel/=GaussianKernel.sum()\n",
        "import scipy.stats as st\n",
        "\n",
        "#plot the kernel\n",
        "fig, ax = plt.subplots()\n",
        "ax.plot(tg, GaussianKernel, '.')\n",
        "ax.set_title('GaussianKernel')\n",
        "ax.set_xlabel('Time [s]')\n",
        "ax.set_ylabel('Amplitude')\n",
        "ax.grid(True)\n",
        "ax.set_xlim([-.01, .01])\n",
        "\n",
        "#cross correlate to get the smoothed version\n",
        "from scipy.ndimage import correlate\n",
        "\n",
        "y_smooth = correlate(y, GaussianKernel, mode='nearest')\n",
        "\n",
        "\n",
        "fig, ax = plt.subplots(2, 1, constrained_layout=True)\n",
        "ax[0].plot(x, y, linestyle='-')\n",
        "ax[0].set_title('ECG signal x')\n",
        "ax[0].set_xlabel('Time [s]')\n",
        "ax[0].set_ylabel('Signal Amplitude')\n",
        "ax[0].grid(True)\n",
        "\n",
        "ax[1].plot(x, y_smooth, linestyle='-')\n",
        "ax[1].set_title('x_smoothed')\n",
        "ax[1].set_xlabel('Time [s]')\n",
        "ax[1].set_ylabel('Signal Amplitude')\n",
        "ax[1].grid(True)\n",
        "\n"
      ],
      "execution_count": null,
      "outputs": []
    },
    {
      "cell_type": "markdown",
      "metadata": {
        "collapsed": false,
        "pycharm": {
          "name": "#%% md\n"
        },
        "id": "YpfXfDPExvFF"
      },
      "source": [
        "#### Step5: detect peaks"
      ]
    },
    {
      "cell_type": "code",
      "metadata": {
        "pycharm": {
          "name": "#%%\n"
        },
        "id": "42CrWOs6xvFF"
      },
      "source": [
        "def peakDetector(q):\n",
        "    h1 = [-1, 1, 0]\n",
        "    h2 = [0, 1, -1]\n",
        "    y = correlate(q, h1, mode='nearest')\n",
        "    z = correlate(q, h2, mode='nearest')\n",
        "    indexArr1 = np.where(y>0) #find pos index in y\n",
        "    indexArr2 = np.where(z>0)\n",
        "    peakIndexArr = np.intersect1d(indexArr1, indexArr2)\n",
        "    return peakIndexArr\n",
        "\n",
        "smoothPeakIndexArr = peakDetector(y_smooth)\n",
        "\n",
        "fig, ax = plt.subplots()\n",
        "ax.plot(x, y_smooth, '-')\n",
        "ax.plot(x[smoothPeakIndexArr], y_smooth[smoothPeakIndexArr], 'o')\n",
        "ax.set_title('ECG SMOOTH signal x and detected peaks')\n",
        "ax.set_xlabel('Time [s]')\n",
        "ax.set_ylabel('Signal Amplitude')\n",
        "ax.grid(True)"
      ],
      "execution_count": null,
      "outputs": []
    },
    {
      "cell_type": "markdown",
      "metadata": {
        "collapsed": false,
        "pycharm": {
          "name": "#%% md\n"
        },
        "id": "-WNJLb5jxvFQ"
      },
      "source": [
        "#### Step6: peak selection and visualization"
      ]
    },
    {
      "cell_type": "code",
      "metadata": {
        "pycharm": {
          "name": "#%%\n"
        },
        "id": "MuTzleHvxvFQ"
      },
      "source": [
        "threshold = 2300\n",
        "\n",
        "aboveThresholdSmooth = y_smooth[smoothPeakIndexArr] >= threshold\n",
        "thresholdPeakSmooth = smoothPeakIndexArr[aboveThresholdSmooth]\n",
        "\n",
        "\n",
        "fig, ax = plt.subplots()\n",
        "ax.plot(x, y_smooth, '-')\n",
        "ax.plot(x[thresholdPeakSmooth], y_smooth[thresholdPeakSmooth], 'o')\n",
        "ax.set_title('ECG SMOOTH signal x and detected THRESHOLD peaks')\n",
        "ax.set_xlabel('Time [s]')\n",
        "ax.set_ylabel('Signal Amplitude')\n",
        "ax.grid(True)"
      ],
      "execution_count": null,
      "outputs": []
    },
    {
      "cell_type": "markdown",
      "metadata": {
        "collapsed": false,
        "pycharm": {
          "name": "#%% md\n"
        },
        "id": "c8gch7NCxvFT"
      },
      "source": [
        "#### Step7: calculate heart rate per minute based on the R-peaks"
      ]
    },
    {
      "cell_type": "code",
      "metadata": {
        "pycharm": {
          "name": "#%%\n"
        },
        "id": "tu91TN7hxvFU"
      },
      "source": [
        "# noise\n",
        "fig, ax = plt.subplots(constrained_layout=True)\n",
        "# ax[0].plot(x, y, '-')\n",
        "# print('****', thresholdPeakNoise)\n",
        "# ax[0].plot(x[thresholdPeakNoise], y[thresholdPeakNoise], 'o')\n",
        "# # ax[0].set_title('ECG NOISE signal x and detected THRESHOLD peaks')\n",
        "# ax[0].set_xlabel('Time [s]')\n",
        "# ax[0].set_ylabel('Signal Amplitude')\n",
        "# ax[0].grid(True)\n",
        "# print()\n",
        "\n",
        "bpm_time_pointsSmooth = x[thresholdPeakSmooth]\n",
        "print('#########', bpm_time_pointsSmooth)\n",
        "\n",
        "r_intervalsNoise = np.diff(bpm_time_pointsSmooth)\n",
        "print('#########', r_intervalsNoise)\n",
        "\n",
        "bpm_valuesSmooth = 60 / r_intervalsNoise\n",
        "bpm_values = np.insert(bpm_valuesSmooth, 0, bpm_valuesSmooth[0])\n",
        "#signal decomposition: try additive and multiplicative\n",
        "# result = seasonal_decompose(x, model='additive', freq= int(fs/f))\n",
        "# trend = result.trend\n",
        "# seasonal = result.seasonal\n",
        "# residual = result.residual\n",
        "\n",
        "ax.plot(bpm_time_pointsSmooth,bpm_valuesSmooth, '-');\n",
        "ax.axis([0, Duration, 0, 100])\n",
        "\n",
        "# ax[1].plot(x, y_smooth, linestyle='-')\n",
        "# ax[1].set_title('x_smoothed')\n",
        "ax.set_xlabel('Time [s]')\n",
        "ax.set_ylabel('Heart Rate per minute')\n",
        "ax.grid(True)\n",
        "#\n",
        "#\n",
        "# # smooth\n",
        "# fig, ax = plt.subplots(2, 1, constrained_layout=True)\n",
        "# ax[1].plot(x, y, linestyle='-')\n",
        "# ax[1].set_title('ECG signal x')\n",
        "# ax[1].set_xlabel('Time [s]')\n",
        "# ax[1].set_ylabel('Signal Amplitude')\n",
        "# ax[1].grid(True)\n",
        "#\n",
        "# ax[0].plot(x, y_smooth, linestyle='-')\n",
        "# ax[0].set_title('x_smoothed')\n",
        "# ax[0].set_xlabel('Time [s]')\n",
        "# ax[0].set_ylabel('Signal Amplitude')\n",
        "# ax[0].grid(True)\n"
      ],
      "execution_count": null,
      "outputs": []
    },
    {
      "cell_type": "code",
      "metadata": {
        "pycharm": {
          "name": "#%%\n"
        },
        "id": "1viU8j5xxvFX"
      },
      "source": [
        "# data[data.notnull()]"
      ],
      "execution_count": null,
      "outputs": []
    },
    {
      "cell_type": "code",
      "metadata": {
        "id": "HzrDl8elxvFZ"
      },
      "source": [
        "f=10 #signal frequence\n",
        "fs = 1000 # sampling rate (Hz)\n",
        "Ts = 1/fs # sampling intervel (seconds)\n",
        "N = data.shape[0] # total number of data points in the ECG signal x\n",
        "Duration= N/fs #seconds\n",
        "\n",
        "# time points\n",
        "t = np.linspace(0, Duration-Ts, N) #array of time points\n",
        "pi = np.pi\n",
        "x= np.sin(2*pi*f*t) #sin signal\n",
        "\n",
        "x.shape #1000sig values\n",
        "t.shap # 1000 data points\n",
        "\n",
        "fig, ax = plt.subplots()\n",
        "ax.plot(t, x, '-')"
      ],
      "execution_count": null,
      "outputs": []
    },
    {
      "cell_type": "code",
      "metadata": {
        "id": "TOt4SrlnxvFi"
      },
      "source": [
        "print(Duration)\n",
        "Duration\n"
      ],
      "execution_count": null,
      "outputs": []
    }
  ]
}