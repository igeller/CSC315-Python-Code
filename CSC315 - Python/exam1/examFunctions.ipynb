{
 "cells": [
  {
   "cell_type": "markdown",
   "source": [
    "### Question 16\n",
    "This question is about Body Mass Index (BMI): <br>\n",
    "If a person has weight of 80 (kilograms) and height of 1.73 (meters), then BMI can be calculated by: <br>\n",
    "``BMI = weight / (height*height) = 80 /(1.73*1.73) = 26.7``\n",
    "\n",
    "Four general grades are proposed:\n",
    "```\n",
    "-1  :  Underweight     if           BMI < 18.5\n",
    " 0  :  Normal weight   if   18.5 <= BMI < 25.0\n",
    " 1  :  Overweight      if   25.0 <= BMI < 30.0\n",
    " 2  :  Obesity         if   30.0 <= BMI\n",
    "```\n",
    "\n",
    "``Your Task`` is to write a function that takes weight and height as input and returns BMI and Grade.\n",
    "You do not need to 'format' the output"
   ],
   "metadata": {
    "collapsed": false,
    "pycharm": {
     "name": "#%% md\n"
    }
   }
  },
  {
   "cell_type": "code",
   "execution_count": 13,
   "outputs": [
    {
     "data": {
      "text/plain": "(2.672992749507167, -1)"
     },
     "execution_count": 13,
     "metadata": {},
     "output_type": "execute_result"
    }
   ],
   "source": [
    "def Answer16(weight, height):\n",
    "    # parameters: weight, height\n",
    "    # returns: BMI and Grade\n",
    "    # step-1: calculate BMI using the equation\n",
    "    BMI = weight / (height*height)\n",
    "    # step-2: determine Grade\n",
    "    #         Grade = -1 ~  Underweight\n",
    "    #         Grade =  0 ~  Normal weight\n",
    "    #         Grade =  1 ~  Overweight\n",
    "    #         Grade =  2 ~  Obesity\n",
    "    if BMI < 18.5:\n",
    "        Grade = -1\n",
    "    elif BMI >= 18.5 and BMI < 25.0:\n",
    "        Grade = 0\n",
    "    elif BMI >= 25.0 and BMI < 30.0:\n",
    "        Grade = 1\n",
    "    else:\n",
    "        Grade = 2\n",
    "    # step-3: return BMI and Grade\n",
    "    # For example, Answer13(80, 1.73) returns (26.7, 1)\n",
    "    return (BMI, Grade)\n",
    "Answer16(8, 1.73)"
   ],
   "metadata": {
    "collapsed": false,
    "pycharm": {
     "name": "#%%\n"
    }
   }
  },
  {
   "cell_type": "markdown",
   "source": [
    "### Question 17\n",
    "Implement a function that takes as input a string and returns a dictionary <br>\n",
    "The input string contains numbers separated by commas. For example, A = \"1.0,2.0,3.0\"  <br>\n",
    "Note: the input string contains only numbers and commas, no other characters <br>\n",
    "Inside the function, the following tasks are performed: <br>\n",
    "<br>\n",
    "Task-1 is to convert the input string A into a list of numbers, e.g., B = [1.0, 2.0, 3.0]\n",
    "\n",
    "<br>\n",
    "Task-2 is to calculate:  <br>\n",
    "(1) mean of the numbers in the list <br>\n",
    "(2) max of the numbers in the list <br>\n",
    "(3) min of the numbers in the list <br>\n",
    "<br>\n",
    "Task-3 is to build and return a dictionary that contains three keys: 'mean', 'max', 'min' and  corresponding values from Task-2<br>\n",
    "For example, the returned dictionary is {'mean': 2.0, 'max':3.0, 'min':1.0} for the input A = \"1.0,2.0,3.0\" <br>\n",
    "<br>\n",
    "Special case:<br>\n",
    "the input string A may be empty  <br>\n",
    "then the function returns this dictionary: {'mean': None, 'max':None, 'min':None} <br>\n",
    "The special case should be handled at the beginning of the function <br>\n",
    "<br>"
   ],
   "metadata": {
    "collapsed": false
   }
  },
  {
   "cell_type": "code",
   "execution_count": 14,
   "outputs": [
    {
     "name": "stdout",
     "output_type": "stream",
     "text": [
      "{'mean': 3.6666666666666665, 'max': 7.0, 'min': 1.0}\n"
     ]
    }
   ],
   "source": [
    "def Answer17(A):\n",
    "    # parameter: A is a string that contains numbers separated by commas\n",
    "    # return: a dictionary which is a summary about the numbers in the string\n",
    "    # For example: Answer14(\"1.0,2.0,3.0\") returns {'mean':2.0, 'max':3.0, 'min':1.0}\n",
    "    arrayOfNums = list(map(float, A.split(',')))\n",
    "    arrayOfNums.sort()\n",
    "\n",
    "    numPropDict = dict()\n",
    "    numPropDict['mean'] = (sum(arrayOfNums))/len(arrayOfNums)\n",
    "    numPropDict['max'] = arrayOfNums[-1]\n",
    "    numPropDict['min'] = arrayOfNums[0]\n",
    "\n",
    "    return(numPropDict)\n",
    "print(Answer17('1.0,7.0,3.0'))"
   ],
   "metadata": {
    "collapsed": false,
    "pycharm": {
     "name": "#%%\n"
    }
   }
  },
  {
   "cell_type": "markdown",
   "source": [
    "### Question 18\n",
    "We have a list of strings:\n",
    "```python\n",
    "CharList = ['a', 'b', 'c', 'd']\n",
    "```\n",
    "Now, we write a program to delete some elements from the list.  <br>\n",
    "The indexes of the elements to be deleted are stored in IndexList  <br>\n",
    "\n",
    "```Scenario-1```:  IndexList = [3, 0]\n",
    "```python\n",
    "CharList = ['a', 'b', 'c', 'd']\n",
    "IndexList = [3, 0]\n",
    "for n in range(0, len(IndexList)):\n",
    "    index=IndexList[n]\n",
    "    print(index)\n",
    "    print(CharList[index])\n",
    "    del CharList[index]\n",
    "```\n",
    "The code under Scenario-1 works well: 'a' and 'd' are deleted <br>\n",
    "<br>\n",
    "```Scenario-2```:  IndexList = [0, 3]\n",
    "```python\n",
    "CharList = ['a', 'b', 'c', 'd']\n",
    "IndexList = [0, 3]\n",
    "for n in range(0, len(IndexList)):\n",
    "    index=IndexList[n]\n",
    "    print(index)\n",
    "    print(CharList[index])\n",
    "    del CharList[index]\n",
    "```\n",
    "The code under Scenario-2 does not work: You will see \"IndexError: list index out of range\" <br>\n",
    "<br>\n",
    "Write a function in which the elements can be deleted from the list <br>\n",
    "It must be a general solution. <br>\n",
    "CharList contains strings, not other stuff <br>\n",
    "IndexList contains integers, not other stuff <br>"
   ],
   "metadata": {
    "collapsed": false
   }
  },
  {
   "cell_type": "code",
   "execution_count": 21,
   "outputs": [
    {
     "name": "stdout",
     "output_type": "stream",
     "text": [
      "['a', 'b', 'c', 'd']\n",
      "['a', 'b', 'c', 'd']\n",
      "['b', 'c', 'd']\n",
      "['b', 'c']\n",
      "['c']\n",
      "[]\n"
     ]
    }
   ],
   "source": [
    "def Answer18(CharList, IndexList):\n",
    "    # parameters:\n",
    "    #     CharList is a list of strings\n",
    "    #     IndexList is a list of integers, and it can be [2, 3, 1], [1, 3, 2], etc\n",
    "    # return: None\n",
    "    # If the index of an element of CharList is in IndexList,\n",
    "    # then the element will be deleted from CharList.\n",
    "    for x in IndexList:\n",
    "        if(x < len(CharList)) and (x > (-1 * len(CharList))):\n",
    "            print(CharList)\n",
    "            del CharList[x]\n",
    "    print(CharList)\n",
    "\n",
    "CharList = ['a', 'b', 'c', 'd']\n",
    "IndexList = [0, 3, 2, 0, 0, 0, -1, -1, -100, 200]\n",
    "print(CharList)\n",
    "Answer18(CharList, IndexList)"
   ],
   "metadata": {
    "collapsed": false,
    "pycharm": {
     "name": "#%%\n"
    }
   }
  }
 ],
 "metadata": {
  "kernelspec": {
   "display_name": "Python 3",
   "language": "python",
   "name": "python3"
  },
  "language_info": {
   "codemirror_mode": {
    "name": "ipython",
    "version": 2
   },
   "file_extension": ".py",
   "mimetype": "text/x-python",
   "name": "python",
   "nbconvert_exporter": "python",
   "pygments_lexer": "ipython2",
   "version": "2.7.6"
  }
 },
 "nbformat": 4,
 "nbformat_minor": 0
}