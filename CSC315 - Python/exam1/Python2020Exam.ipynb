{
 "cells": [
  {
   "cell_type": "markdown",
   "metadata": {},
   "source": [
    "## Exam (100 points)\n",
    "Q1 to Q15 are single-choice questions: 2 points per question (15x2=30 points). <br>\n",
    "Q16 to Q20 are programming tasks (70 points) <br>\n",
    "Q16: 10 points <br>\n",
    "Q17: 10 points<br>\n",
    "Q18: 20 points<br>\n",
    "Q19: 10 points<br>\n",
    "Q20: 20 points<br>\n",
    "You can use Python built-in functions and Python Standard Library. <br>\n",
    "Do NOT use Numpy and other numpy-based packages <br>\n",
    "write your answers in this file, and upload it to Blackboard <br>\n",
    "do NOT write your test code in this file, do it somewhere esle <br>\n",
    "Q19 and Q20 are in zybooks <br>"
   ]
  },
  {
   "cell_type": "markdown",
   "metadata": {},
   "source": [
    "### Example Question 0\n",
    "Who invented Python programming language ? <br>\n",
    "(A) Guido van Rossum <br>\n",
    "(B) Bjarne Stroustrup <br>\n",
    "(C) James Gosling <br>\n",
    "<br>"
   ]
  },
  {
   "cell_type": "code",
   "execution_count": 1,
   "metadata": {},
   "outputs": [],
   "source": [
    "#the answer to the example question\n",
    "Answer0='A'"
   ]
  },
  {
   "cell_type": "markdown",
   "metadata": {},
   "source": [
    "### Question 1\n",
    "Which of the following statements is ``WRONG`` about Variable? <br>\n",
    "(A) A variable is used as a name (i.e. identifier) of an object. So we can say a variable refers to an object <br>\n",
    "(B) A variable is 'attached' to an object in an assignment statement, and it can be detached by `del` <br>\n",
    "(C) A variable can refer to more than one object at the same time (i.e. two different objects can have the same name) <br>\n",
    "(D) Two variables can refer to the same object (i.e. an object can have multiple names)"
   ]
  },
  {
   "cell_type": "code",
   "execution_count": 2,
   "metadata": {},
   "outputs": [],
   "source": [
    "Answer1='C'"
   ]
  },
  {
   "cell_type": "markdown",
   "metadata": {},
   "source": [
    "### Question 2\n",
    "Which of the following statements is ``WRONG`` about Object? <br>\n",
    "(A) An object has an id, which can be obtained by using the function ``id`` <br>\n",
    "(B) An object has a type, which can be obtained by using the function ``type``<br>\n",
    "(C) int numbers (type: int, e.g., 10) in Python are not objects <br>\n",
    "(D) The id of an object is unique during  the lifetime of the object"
   ]
  },
  {
   "cell_type": "code",
   "execution_count": 3,
   "metadata": {},
   "outputs": [],
   "source": [
    "Answer2='C'"
   ]
  },
  {
   "cell_type": "markdown",
   "metadata": {},
   "source": [
    "### Question 3\n",
    "A program has three lines of code <br>\n",
    "\n",
    "```python\n",
    "1: x = 'a'\n",
    "2: y = 1\n",
    "3: x = y\n",
    "```\n",
    "Which of the following statements is ``WRONG`` about the third line of the program? <br> \n",
    "(A) x is assigned with the value of y <br> \n",
    "(B) x and y both refer to the same object  <br> \n",
    "(C) string 'a' is physically transformed into integer 1 <br> \n",
    "(D) id(x) is the same as id(y)  <br> "
   ]
  },
  {
   "cell_type": "code",
   "execution_count": 4,
   "metadata": {},
   "outputs": [],
   "source": [
    "Answer3='C'"
   ]
  },
  {
   "cell_type": "markdown",
   "metadata": {},
   "source": [
    "### Question 4\n",
    "Which of the following statements about numbers in Python is ``CORRECT`` ? <br>\n",
    "(A) Floating point numbers (type is float) can accurately represent any real number, no matter how large the real number is <br> \n",
    "(B) Commas can be used in an integer literal so that code is more readable, e.g., ``x = 1,000`` which means x is one thousand <br> \n",
    "(C) int numbers (type is int) can accurately represent any integers as long as computer memory is big enough <br>\n",
    "(D) The value of the expression ``5 // 10`` is 0.5"
   ]
  },
  {
   "cell_type": "code",
   "execution_count": 5,
   "metadata": {},
   "outputs": [],
   "source": [
    "Answer4='C'"
   ]
  },
  {
   "cell_type": "markdown",
   "metadata": {},
   "source": [
    "### Question 5\n",
    "Which operator is evaluated first? \n",
    "```python\n",
    "    1 + 2 < 3 - 4 * 5\n",
    "```\n",
    "(A) + <br>\n",
    "(B) - <br>\n",
    "(C) * <br>\n",
    "(D) < <br>"
   ]
  },
  {
   "cell_type": "code",
   "execution_count": 6,
   "metadata": {},
   "outputs": [],
   "source": [
    "Answer5='C'"
   ]
  },
  {
   "cell_type": "markdown",
   "metadata": {},
   "source": [
    "### Question 6\n",
    "\n",
    "```python\n",
    "i = 10\n",
    "x=0\n",
    "if 0 < i < 1:\n",
    "    x=1\n",
    "else:\n",
    "    x=2\n",
    "elif i >= 1:\n",
    "    x=3\n",
    "```\n",
    "After you run the above program (copy&paste it in Spyder or Colab), you will see \"SyntaxError: invalid syntax\" because: <br>\n",
    "(A) a ``:`` is missing <br>\n",
    "(B) a ``,`` is missing <br>\n",
    "(C) a ``;`` is missing <br>\n",
    "(D) other reason <br>"
   ]
  },
  {
   "cell_type": "code",
   "execution_count": 7,
   "metadata": {},
   "outputs": [],
   "source": [
    "Answer6='D'"
   ]
  },
  {
   "cell_type": "markdown",
   "metadata": {},
   "source": [
    "### Question 7\n",
    "a list (type is list) is a sequence of objects. For example: <br>\n",
    "```python\n",
    "L=[1, 2, 3]\n",
    "```\n",
    "Which of the following statements about List is ``WRONG`` ?<br> \n",
    "(A) ``[]`` defines an empty list <br> \n",
    "(B) All elements of a list must have the same type  <br> \n",
    "(C) A new element can be appended to a list <br> \n",
    "(D) Any element of a list can be deleted <br> "
   ]
  },
  {
   "cell_type": "code",
   "execution_count": 8,
   "metadata": {},
   "outputs": [],
   "source": [
    "Answer7='B'"
   ]
  },
  {
   "cell_type": "markdown",
   "metadata": {},
   "source": [
    "### Question 8\n",
    "a for loop:\n",
    "```python\n",
    "P = ['a']\n",
    "for n in range(0, len(P)):\n",
    "    P.append('a')\n",
    "    print(n)\n",
    "```\n",
    "a while loop:\n",
    "```python\n",
    "P = ['a']\n",
    "n=0\n",
    "while n < len(P):\n",
    "    P.append('a')\n",
    "    print(n)\n",
    "    n=n+1    \n",
    "```\n",
    "Which of the following statements is ``CORRECT`` about the above for loop and while loop ?<br> \n",
    "(A) The two loops do the same thing <br> \n",
    "(B) The for loop has an infinite number of iterations (i.e., it is an infinite loop) <br> \n",
    "(C) In the for loop, ``len(P)`` is evalauted after every interation <br> \n",
    "(D) The while loop has an infinite number of iterations (i.e., it is an infinite loop) <br> "
   ]
  },
  {
   "cell_type": "code",
   "execution_count": 21,
   "metadata": {},
   "outputs": [],
   "source": [
    "Answer8='D'"
   ]
  },
  {
   "cell_type": "markdown",
   "metadata": {},
   "source": [
    "### Question 9\n",
    "\n",
    "```python\n",
    "NameList = ['Robert', 'John', 'James', 'William', 'Charles']\n",
    "if 'George' and 'John' in NameList:\n",
    "    print(\"NameList contains both John and George\")\n",
    "```\n",
    "The above program has a bug. Which one in (A) to (D) can fix the bug ? <br>\n",
    "(A) replace ``'George' and 'John'`` with ``('George' and 'John')`` <br>\n",
    "(B) replace ``if 'George'`` with ``if 'George' in NameList`` <br>\n",
    "(C) replace ``'George' and 'John'`` with ``'George' or 'John'`` <br>\n",
    "(D) replace ``in`` with ``not in`` <br>"
   ]
  },
  {
   "cell_type": "code",
   "execution_count": 10,
   "metadata": {},
   "outputs": [],
   "source": [
    "Answer9='B'"
   ]
  },
  {
   "cell_type": "markdown",
   "metadata": {},
   "source": [
    "### Question 10\n",
    "A break statement in a loop causes an immediate exit of the loop.\n",
    "```python\n",
    "Board=[[' ', ' ', ' '],\n",
    "       [' ', 'X', ' '],\n",
    "       [' ', ' ', ' ']]\n",
    "\n",
    "for i in range(0, 3):\n",
    "    print('i =', i)\n",
    "    for j in range(0, 3):\n",
    "        if Board[i][j] == 'X':\n",
    "            print('break at i =', i, ', j =', j)\n",
    "            break\n",
    "```            \n",
    "The above program has a nested for loop: an inner loop (for j) and an outer loop (for i). <br>\n",
    "Which of the following statements is ``CORRECT`` ? <br>\n",
    "(A) The ``break`` statement stops both inner and outer loops  <br>\n",
    "(B) The ``break`` statement only stops the inner for loop (for j)  <br>"
   ]
  },
  {
   "cell_type": "code",
   "execution_count": 11,
   "metadata": {},
   "outputs": [],
   "source": [
    "Answer10='B'"
   ]
  },
  {
   "cell_type": "markdown",
   "metadata": {},
   "source": [
    "### Question 11\n",
    "a dictionary is a collection of key-value pairs\n",
    "```python\n",
    "v1=1\n",
    "v2=2\n",
    "A={'k1':v1, 'k2':v2}\n",
    "print(A)\n",
    "for x, y in A.items():\n",
    "    A[x]=y+1\n",
    "print(A)\n",
    "```    \n",
    "Which of the following statements is ``CORRECT`` about x and y in the above for loop ? <br>\n",
    "(A) x refers to a value and y refers to a key <br>\n",
    "(B) x refers to a key and y refers to a value <br>\n",
    "(C) x refers to a value and y refers to another value <br>\n",
    "(D) x refers to a key and y refers to another key <br>"
   ]
  },
  {
   "cell_type": "code",
   "execution_count": 12,
   "metadata": {},
   "outputs": [],
   "source": [
    "Answer11='B'"
   ]
  },
  {
   "cell_type": "markdown",
   "metadata": {},
   "source": [
    "### Question 12\n",
    "```python\n",
    "def Add(x1, x2):\n",
    "    r = x1 + x\n",
    "    return r\n",
    "#end\n",
    "x=1\n",
    "y=2\n",
    "z=Add(x, y)\n",
    "```\n",
    "Which of the following statements is ``WRONG`` about the above program ? <br>\n",
    "(A) ``x`` is a global variable <br>\n",
    "(B) ``x`` is a local variable defined inside the function Add <br>\n",
    "(C) ``r`` is a local variable defined inside the function Add <br>\n",
    "(D) The value of ``z`` is 2"
   ]
  },
  {
   "cell_type": "code",
   "execution_count": 13,
   "metadata": {},
   "outputs": [],
   "source": [
    "Answer12='B'"
   ]
  },
  {
   "cell_type": "markdown",
   "metadata": {},
   "source": [
    "### Question 13\n",
    "a string (type is str) is a sequence of characters. <br>\n",
    "```python\n",
    "S1 = 'a b c'\n",
    "S2 = S1\n",
    "L1 = list(S1)\n",
    "L2 = S2.split(' ')\n",
    "```\n",
    "Which of the following statements is ``CORRECT`` about strings and the above program ? <br>\n",
    "(A) Strings are mutable, so any character of a string can be modified by using item assignment statement (e.g. S1[0]='d') <br>\n",
    "(B) Characters of a string can only be numbers (0~9) or letters in the English alphabet <br>\n",
    "(C) S1 and S2 refer to the same string object because id(S1) is equal to id(S2) <br>"
   ]
  },
  {
   "cell_type": "code",
   "execution_count": 14,
   "metadata": {},
   "outputs": [],
   "source": [
    "Answer13='C'"
   ]
  },
  {
   "cell_type": "markdown",
   "metadata": {},
   "source": [
    "### Question 14\n",
    "\n",
    "What data types can be used as ``keys`` in a dictionary ? <br>\n",
    "(A) str, int, float, tuple <br> \n",
    "(B) list and dict <br>\n",
    "(C) any data types in Python  <br>"
   ]
  },
  {
   "cell_type": "code",
   "execution_count": 15,
   "metadata": {},
   "outputs": [],
   "source": [
    "Answer14='A'"
   ]
  },
  {
   "cell_type": "markdown",
   "metadata": {},
   "source": [
    "### Question 15\n",
    "```python\n",
    "1:  class student:\n",
    "2:    counter=0\n",
    "3:    def __init__(self, name):\n",
    "4:      self.counter+=1\n",
    "5:      self.name=name\n",
    "6:    def __del__(self):\n",
    "7:      self.counter-=1\n",
    "8:    def show(self):\n",
    "9:      print('name is', self.name)\n",
    "10: s1=student('s1')\n",
    "11: s2=student('s2')\n",
    "12: del s2\n",
    "```\n",
    "Which of the following statements is ``CORRECT`` about the above program ? <br>\n",
    "(A) self.name in line 5 is class variable/attribute  <br>\n",
    "(B) After executing the code from line 1 to line 11, `student.counter` is 2 <br>\n",
    "(C) After executing the code from line 1 to line 12, `student.counter` is 1 <br>\n",
    "(D) `student.counter`, `s1.counter` , `s2.counter` belong to three different objects  <br>"
   ]
  },
  {
   "cell_type": "code",
   "execution_count": 16,
   "metadata": {},
   "outputs": [],
   "source": [
    "Answer15='C'"
   ]
  },
  {
   "cell_type": "markdown",
   "metadata": {},
   "source": [
    "## You will implement the functions in Questions 16, 17, 18, 19, 20."
   ]
  },
  {
   "cell_type": "markdown",
   "metadata": {},
   "source": [
    "### Question 16\n",
    "This question is about Body Mass Index (BMI): <br>\n",
    "If a person has weight of 80 (kilograms) and height of 1.73 (meters), then BMI can be calculated by: <br>\n",
    "``BMI = weight / (height*height) = 80 /(1.73*1.73) = 26.7``\n",
    "\n",
    "Four general grades are proposed:\n",
    "```\n",
    "-1  :  Underweight     if           BMI < 18.5\n",
    " 0  :  Normal weight   if   18.5 <= BMI < 25.0\n",
    " 1  :  Overweight      if   25.0 <= BMI < 30.0\n",
    " 2  :  Obesity         if   30.0 <= BMI\n",
    "```\n",
    "\n",
    "``Your Task`` is to write a function that takes weight and height as input and returns BMI and Grade.\n",
    "You do not need to 'format' the output\n",
    "\n",
    "```python\n",
    "def Answer16(weight, height):\n",
    "    # parameters: weight, height\n",
    "    # returns: BMI and Grade\n",
    "    # step-1: calculate BMI using the equation\n",
    "    # step-2: determine Grade\n",
    "    #         Grade = -1 ~  Underweight\n",
    "    #         Grade =  0 ~  Normal weight\n",
    "    #         Grade =  1 ~  Overweight\n",
    "    #         Grade =  2 ~  Obesity\n",
    "    # step-3: return BMI and Grade\n",
    "    # For example, Answer13(80, 1.73) returns (26.7, 1)\n",
    "    return (BMI, Grade)\n",
    "```"
   ]
  },
  {
   "cell_type": "code",
   "execution_count": 17,
   "metadata": {
    "scrolled": true
   },
   "outputs": [],
   "source": [
    "#implement the function\n",
    "def Answer16(weight, height):\n",
    "    BMI = weight / (height*height)\n",
    "\n",
    "    if BMI < 18.5:\n",
    "        Grade = -1\n",
    "    elif BMI >= 18.5 and BMI < 25.0:\n",
    "        Grade = 0\n",
    "    elif BMI >= 25.0 and BMI < 30.0:\n",
    "        Grade = 1\n",
    "    else:\n",
    "        Grade = 2\n",
    "\n",
    "    return (BMI, Grade)"
   ]
  },
  {
   "cell_type": "markdown",
   "metadata": {},
   "source": [
    "### Question 17 \n",
    "Implement a function that takes as input a string and returns a dictionary <br>\n",
    "The input string contains numbers separated by commas. For example, A = \"1.0,2.0,3.0\"  <br>\n",
    "Note: the input string contains only numbers and commas, no other characters <br>\n",
    "Inside the function, the following tasks are performed: <br>\n",
    "<br>\n",
    "Task-1 is to convert the input string A into a list of numbers, e.g., B = [1.0, 2.0, 3.0]\n",
    "\n",
    "<br>\n",
    "Task-2 is to calculate:  <br>\n",
    "(1) mean of the numbers in the list <br>\n",
    "(2) max of the numbers in the list <br>\n",
    "(3) min of the numbers in the list <br>\n",
    "<br>\n",
    "Task-3 is to build and return a dictionary that contains three keys: 'mean', 'max', 'min' and  corresponding values from Task-2<br>\n",
    "For example, the returned dictionary is {'mean': 2.0, 'max':3.0, 'min':1.0} for the input A = \"1.0,2.0,3.0\" <br>\n",
    "<br>\n",
    "Special case:<br>\n",
    "the input string A may be empty  <br>\n",
    "then the function returns this dictionary: {'mean': None, 'max':None, 'min':None} <br>\n",
    "The special case should be handled at the beginning of the function <br>\n",
    "<br>\n",
    "\n",
    "```python\n",
    "def Answer17(A):\n",
    "    # parameter: A is a string that contains numbers separated by commas\n",
    "    # return: a dictionary which is a summary about the numbers in the string\n",
    "    # For example: Answer14(\"1.0,2.0,3.0\") returns {'mean':2.0, 'max':3.0, 'min':1.0}\n",
    "    \n",
    "```"
   ]
  },
  {
   "cell_type": "code",
   "execution_count": 18,
   "metadata": {},
   "outputs": [],
   "source": [
    "#implement the function\n",
    "def Answer17(A):\n",
    "    arrayOfNums = list(map(float, A.split(',')))\n",
    "    arrayOfNums.sort()\n",
    "\n",
    "    numPropDict = dict()\n",
    "    numPropDict['mean'] = (sum(arrayOfNums))/len(arrayOfNums)\n",
    "    numPropDict['max'] = arrayOfNums[-1]\n",
    "    numPropDict['min'] = arrayOfNums[0]\n",
    "\n",
    "    return(numPropDict)"
   ]
  },
  {
   "cell_type": "markdown",
   "metadata": {},
   "source": [
    "### Question 18\n",
    "We have a list of strings: \n",
    "```python\n",
    "CharList = ['a', 'b', 'c', 'd']\n",
    "```\n",
    "Now, we write a program to delete some elements from the list.  <br> \n",
    "The indexes of the elements to be deleted are stored in IndexList  <br>\n",
    "\n",
    "```Scenario-1```:  IndexList = [3, 0]\n",
    "```python\n",
    "CharList = ['a', 'b', 'c', 'd']\n",
    "IndexList = [3, 0]\n",
    "for n in range(0, len(IndexList)):    \n",
    "    index=IndexList[n]\n",
    "    print(index)\n",
    "    print(CharList[index])\n",
    "    del CharList[index]\n",
    "```\n",
    "The code under Scenario-1 works well: 'a' and 'd' are deleted <br>\n",
    "<br>\n",
    "```Scenario-2```:  IndexList = [0, 3]\n",
    "```python\n",
    "CharList = ['a', 'b', 'c', 'd']\n",
    "IndexList = [0, 3]\n",
    "for n in range(0, len(IndexList)):    \n",
    "    index=IndexList[n]\n",
    "    print(index)\n",
    "    print(CharList[index])\n",
    "    del CharList[index]\n",
    "```\n",
    "The code under Scenario-2 does not work: You will see \"IndexError: list index out of range\" <br>\n",
    "<br>\n",
    "Write a function in which the elements can be deleted from the list <br>\n",
    "It must be a general solution. <br>\n",
    "CharList contains strings, not other stuff <br>\n",
    "IndexList contains integers, not other stuff <br>\n",
    "```python\n",
    "def Answer18(CharList, IndexList)\n",
    "    # parameters:\n",
    "    #     CharList is a list of strings\n",
    "    #     IndexList is a list of integers, and it can be [2, 3, 1], [1, 3, 2], etc\n",
    "    # return: None\n",
    "    # If the index of an element of CharList is in IndexList, \n",
    "    # then the element will be deleted from CharList.\n",
    "```"
   ]
  },
  {
   "cell_type": "code",
   "execution_count": 19,
   "metadata": {
    "scrolled": true
   },
   "outputs": [],
   "source": [
    "#implement the function\n",
    "def Answer18(CharList, IndexList):\n",
    "    pass"
   ]
  },
  {
   "cell_type": "code",
   "execution_count": 20,
   "metadata": {},
   "outputs": [],
   "source": [
    "# a simple test case\n",
    "CharList = ['a', 'b', 'c', 'd']\n",
    "IndexList = [0, 3, 2, 0, 0, 0, -1, -1, -100, 200]\n",
    "Answer18(CharList, IndexList)\n",
    "#the output should be ['b']"
   ]
  },
  {
   "cell_type": "markdown",
   "metadata": {},
   "source": [
    "### Question 19    is  \"16.13 LAB: Brute force equation solver\" in zybooks\n",
    "do it in zybooks, not in this file"
   ]
  },
  {
   "cell_type": "markdown",
   "metadata": {},
   "source": [
    "### Question 20    is  \"16.31 LAB*: Warm up: Online shopping cart (Part 1)\" in zybooks\n",
    "do it in zybooks, not in this file"
   ]
  }
 ],
 "metadata": {
  "kernelspec": {
   "display_name": "Python 3",
   "language": "python",
   "name": "python3"
  },
  "language_info": {
   "codemirror_mode": {
    "name": "ipython",
    "version": 3
   },
   "file_extension": ".py",
   "mimetype": "text/x-python",
   "name": "python",
   "nbconvert_exporter": "python",
   "pygments_lexer": "ipython3",
   "version": "3.8.3"
  }
 },
 "nbformat": 4,
 "nbformat_minor": 2
}