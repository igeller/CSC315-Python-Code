{
 "cells": [
  {
   "cell_type": "code",
   "execution_count": 1,
   "metadata": {
    "pycharm": {
     "name": "#%%\n"
    }
   },
   "outputs": [],
   "source": [
    "def author():\n",
    "    \"\"\"\n",
    "    return your name\n",
    "    \"\"\"\n",
    "    return 'Isabelle Geller'"
   ]
  },
  {
   "cell_type": "code",
   "execution_count": 2,
   "metadata": {
    "pycharm": {
     "name": "#%%\n"
    }
   },
   "outputs": [
    {
     "ename": "ModuleNotFoundError",
     "evalue": "No module named 'numpy'",
     "output_type": "error",
     "traceback": [
      "\u001b[0;31m---------------------------------------------------------------------------\u001b[0m",
      "\u001b[0;31mModuleNotFoundError\u001b[0m                       Traceback (most recent call last)",
      "\u001b[0;32m<ipython-input-2-f0000566f237>\u001b[0m in \u001b[0;36m<module>\u001b[0;34m\u001b[0m\n\u001b[1;32m      1\u001b[0m \u001b[0;32mimport\u001b[0m \u001b[0mrandom\u001b[0m\u001b[0;34m\u001b[0m\u001b[0;34m\u001b[0m\u001b[0m\n\u001b[0;32m----> 2\u001b[0;31m \u001b[0;32mimport\u001b[0m \u001b[0mnumpy\u001b[0m \u001b[0;32mas\u001b[0m \u001b[0mnp\u001b[0m\u001b[0;34m\u001b[0m\u001b[0;34m\u001b[0m\u001b[0m\n\u001b[0m\u001b[1;32m      3\u001b[0m \u001b[0;34m\u001b[0m\u001b[0m\n\u001b[1;32m      4\u001b[0m \u001b[0;32mdef\u001b[0m \u001b[0mDrawBoard\u001b[0m\u001b[0;34m(\u001b[0m\u001b[0mBoard\u001b[0m\u001b[0;34m)\u001b[0m\u001b[0;34m:\u001b[0m\u001b[0;34m\u001b[0m\u001b[0;34m\u001b[0m\u001b[0m\n\u001b[1;32m      5\u001b[0m     \"\"\"\n",
      "\u001b[0;31mModuleNotFoundError\u001b[0m: No module named 'numpy'"
     ]
    }
   ],
   "source": [
    "import random\n",
    "import numpy as np\n",
    "\n",
    "def DrawBoard(Board):\n",
    "    \"\"\"\n",
    "    Parameter: Board is a 3x3 matrix (a nested list).\n",
    "    Return: None\n",
    "    Description: this function prints the chess board\n",
    "    hint: Board[i][j] is ' ' or 'X' or 'O' in row-i and col-j\n",
    "          use print function\n",
    "    \"\"\"\n",
    "    for i in range(0, 3, 1):\n",
    "        for j in range(0, 3, 1):\n",
    "            if j == 0 or j==1:\n",
    "                print('{}|'.format(Board[i][j]), end='')\n",
    "            else:\n",
    "                print(Board[i][j], end='')\n",
    "\n",
    "        if i == 0 or i == 1:\n",
    "            print('\\n-+-+-')\n",
    "\n",
    "    print('\\n')"
   ]
  },
  {
   "cell_type": "code",
   "execution_count": null,
   "metadata": {
    "pycharm": {
     "name": "#%%\n"
    }
   },
   "outputs": [],
   "source": [
    "def IsSpaceFree(Board, i ,j):\n",
    "    \"\"\"\n",
    "    Parameters: Board is the game board, a 3x3 matrix\n",
    "                i is the row index, j is the col index\n",
    "    Return: True or False\n",
    "    Description:\n",
    "        (1) return True  if Board[i][j] is empty ' '\n",
    "        (2) return False if Board[i][j] is not empty\n",
    "        (3) return False if i or j is invalid (e.g. i = -1 or 100)\n",
    "        think about the order of (1) (2) (3)\n",
    "        Board[-1][100] will raise error/exception\n",
    "    \"\"\"\n",
    "    if (i not in range(0, 3, 1)) or (j not in range(0, 3, 1)) or (Board[i][j] != ' '):\n",
    "        return False\n",
    "    elif Board[i][j] == ' ':\n",
    "        return True"
   ]
  },
  {
   "cell_type": "code",
   "execution_count": null,
   "metadata": {
    "pycharm": {
     "name": "#%%\n"
    }
   },
   "outputs": [],
   "source": [
    "def GetNumberOfChessPieces(Board):\n",
    "    \"\"\"\n",
    "    Parameter: Board is the game board, a 3x3 matrix\n",
    "    Return: the number of chess piceces on Board\n",
    "            i.e. the total number of 'X' and 'O'\n",
    "    hint: define a counter and use a nested for loop, like this\n",
    "          for i in 0 to 3\n",
    "              for j in 0 to 3\n",
    "                  add one to the counter if Board[i][j] is not empty\n",
    "    \"\"\"\n",
    "    totalPieces = 0\n",
    "\n",
    "    for i in range(0, 3, 1):\n",
    "        for j in range(0, 3, 1):\n",
    "            if Board[i][j] != ' ':\n",
    "                totalPieces += 1\n",
    "\n",
    "    return totalPieces"
   ]
  },
  {
   "cell_type": "code",
   "execution_count": null,
   "metadata": {
    "pycharm": {
     "name": "#%%\n"
    }
   },
   "outputs": [],
   "source": [
    "def IsBoardFull(Board):\n",
    "    '''\n",
    "    Parameter: Board is the game board, a 3x3 matrix\n",
    "    Return: True or False\n",
    "    Description:\n",
    "        return True if the Board is fully occupied\n",
    "        return False otherwise\n",
    "    hint: use GetNumberOfChessPieces\n",
    "    '''\n",
    "    if GetNumberOfChessPieces(Board) == 9:\n",
    "        return True\n",
    "    else:\n",
    "        return False"
   ]
  },
  {
   "cell_type": "code",
   "execution_count": null,
   "metadata": {
    "pycharm": {
     "name": "#%%\n"
    }
   },
   "outputs": [],
   "source": [
    "def IsBoardEmpy(Board):\n",
    "    '''\n",
    "    Parameter: Board is the game board, a 3x3 matrix\n",
    "    Return: True or False\n",
    "    Description:\n",
    "        return True if the Board is empty\n",
    "        return False otherwise\n",
    "    hint: use GetNumberOfChessPieces\n",
    "    '''\n",
    "    if GetNumberOfChessPieces(Board) == 0:\n",
    "        return True\n",
    "    else:\n",
    "        return False"
   ]
  },
  {
   "cell_type": "code",
   "execution_count": null,
   "metadata": {
    "pycharm": {
     "name": "#%%\n"
    }
   },
   "outputs": [],
   "source": [
    "def UpdateBoard(Board, Tag, Choice):\n",
    "    '''\n",
    "    Parameters:\n",
    "        Board is the game board, a 3x3 matrix\n",
    "        Tag is 'O' or 'X'\n",
    "        Choice is a tuple (row, col) from HumanPlayer or ComputerPlayer\n",
    "    Return: None\n",
    "    Description:\n",
    "         Update the Board after a player makes a choice\n",
    "         Set an element of the Board to Tag at the location (row, col)\n",
    "    '''\n",
    "    print(Choice)\n",
    "    row = (Choice[0])\n",
    "    col = (Choice[1])\n",
    "    Board[row][col] = Tag"
   ]
  },
  {
   "cell_type": "code",
   "execution_count": null,
   "metadata": {
    "pycharm": {
     "name": "#%%\n"
    }
   },
   "outputs": [],
   "source": [
    "def HumanPlayer(Tag, Board):\n",
    "    '''\n",
    "    Parameters:\n",
    "        Tag is 'X' or 'O'. If Tag is 'X': HumanPlayer is PlayerX who goes first\n",
    "        Board is the game board, a 3x3 matrix\n",
    "    Return: ChoiceOfHumanPlayer, it is a tuple (row, col)\n",
    "    Description:\n",
    "        This function will NOT return until it gets a valid input from the user\n",
    "    Attention:\n",
    "        Board is NOT modified in this function\n",
    "    hint:\n",
    "        a while loop is needed, see HumanPlayer in rock-papper-scissors\n",
    "        the user needs to input row-index and col-index, where a new chess will be placed\n",
    "        use int() to convert string to int\n",
    "        use try-except to handle exceptions if the user inputs some random string\n",
    "        if (row, col) has been occupied, then ask the user to choose another spot\n",
    "        if (row, col) is invalid, then ask the user to choose a valid spot\n",
    "    '''\n",
    "    row = None\n",
    "    col = None\n",
    "    print('make your choice\\n')\n",
    "    while True:\n",
    "        if not isinstance(row, int) or row not in range(0,3):\n",
    "            try:\n",
    "                row = int(input(\"row = \"))\n",
    "                continue\n",
    "            except ValueError:\n",
    "                print(\"Oops! That was not a valid number. Try again...\")\n",
    "            except IndexError:\n",
    "                print(\"Oops! That number is out of bounds. Try again...\")\n",
    "        elif not isinstance(col, int) or col not in range(0, 3):\n",
    "            try:\n",
    "                col = int (input(\"col = \"))\n",
    "                continue\n",
    "            except ValueError:\n",
    "                print(\"Oops! That was not a valid number. Try again...\")\n",
    "            except IndexError:\n",
    "                print(\"Oops! That number is out of bounds. Try again...\")\n",
    "        elif not IsSpaceFree(Board, row, col):\n",
    "            row = None\n",
    "            col = None\n",
    "            print(\"Oops! That space is already taken. Try again...\")\n",
    "        else:\n",
    "            break\n",
    "\n",
    "    print('HumanPlayer({}) has made the choice'.format(Tag))\n",
    "    return (row, col)\n"
   ]
  },
  {
   "cell_type": "code",
   "execution_count": null,
   "metadata": {
    "pycharm": {
     "name": "#%%\n"
    }
   },
   "outputs": [],
   "source": [
    "def ComputerPlayer(Tag, Board):\n",
    "    '''\n",
    "    Parameters:\n",
    "        Tag is 'X' or 'O'. If Tag is 'X': ComputerPlayer is PlayerX who goes first\n",
    "        Board is the game board, a 3x3 matrix\n",
    "    Return: ChoiceOfComputerPlayer, it is a tuple (row, col)\n",
    "    Description:\n",
    "        ComputerPlayer will choose an empty spot on the board\n",
    "        a random strategy in a while loop:\n",
    "            (1) if board empty place the piece in the corner\n",
    "            (2) try every spot on the board and pick the one that makes a win\n",
    "            (3) try every spot on the board and pcik the one that blick human from winning\n",
    "    Attention:\n",
    "        Board is NOT modified in this function\n",
    "    '''\n",
    "\n",
    "\n",
    "    diagonal1Coord = [(0,0), (1, 1), (2, 2)]\n",
    "    diagonal2Coord = [(0,2), (1, 1), (2, 0)]\n",
    "\n",
    "    notTag = 'O' if Tag=='X' else 'X'\n",
    "    if(IsBoardEmpy(Board)):\n",
    "        print('empty')\n",
    "        return(0, 0)\n",
    "    else:\n",
    "        newBoard = np.transpose(Board).tolist()\n",
    "        coord = (None, None)\n",
    "        coordSet = False\n",
    "        for x in range(0, 3, 1):\n",
    "            if(coordSet == False):\n",
    "                diagonal1 = [Board[0][0], Board[1][1], Board[2][2]]\n",
    "                diagonal2 = [Board[0][2], Board[1][1], Board[2][0]]\n",
    "                if Board[x].count(Tag) == 2 and Board[x].__contains__(' '):\n",
    "                    coord = (x, Board[x].index(' '))\n",
    "                elif newBoard[x].count(Tag) == 2 and newBoard[x].__contains__(' '):\n",
    "                    coord = (newBoard[x].index(' '), x)\n",
    "                elif diagonal1.count(Tag) == 2 and diagonal1.__contains__(' '):\n",
    "                    coord = diagonal1Coord[diagonal1.index(' ')]\n",
    "                elif diagonal2.count(Tag) == 2 and diagonal1.__contains__(' '):\n",
    "                    coord = diagonal2Coord[diagonal2.index(' ')]\n",
    "                if coord != (None, None):\n",
    "                    coordSet = True\n",
    "                    break\n",
    "\n",
    "        for x in range(0, 3, 1):\n",
    "            if (coordSet == False):\n",
    "                diagonal1 = [Board[0][0], Board[1][1], Board[2][2]]\n",
    "                diagonal2 = [Board[0][2], Board[1][1], Board[2][0]]\n",
    "                if Board[x].count(notTag) == 2:\n",
    "                    coord = (x, Board[x].index(' '))\n",
    "                elif newBoard[x].count(notTag) == 2:\n",
    "                    coord = (newBoard[x].index(' '), x)\n",
    "                elif diagonal1.count(notTag) == 2 and diagonal1.__contains__(' '):\n",
    "                    coord = diagonal1Coord[diagonal1.index(' ')]\n",
    "                elif diagonal2.count(notTag) == 2 and diagonal2.__contains__(' '):\n",
    "                    coord = diagonal2Coord[diagonal2.index(' ')]\n",
    "                elif Board[x].count(notTag) == 1 and Board[x].count(notTag) == 0:\n",
    "                    coord = (x, Board[x].index(' '))\n",
    "                elif newBoard[x].count(notTag) == 1 and Board[x].count(notTag) == 0:\n",
    "                    coord = (newBoard[x].index(' '), x)\n",
    "                elif diagonal1.count(notTag) == 1 and diagonal1.count(Tag) == 0 and diagonal1.__contains__(' '):\n",
    "                    coord = diagonal1Coord[diagonal1.index(' ')]\n",
    "                elif diagonal2.count(notTag) == 1 and diagonal2.count(Tag) == 0 and diagonal2.__contains__(' '):\n",
    "                    coord = diagonal2Coord[diagonal2.index(' ')]\n",
    "                else:\n",
    "                    coord = ComputerPlayerRand(Tag, Board)\n",
    "                if coord != (None, None):\n",
    "                    coordSet = True\n",
    "                    break\n",
    "    print('ComputerPlayer({}) has made the choice'.format(Tag))\n",
    "    return coord"
   ]
  },
  {
   "cell_type": "code",
   "execution_count": null,
   "metadata": {
    "pycharm": {
     "name": "#%%\n"
    }
   },
   "outputs": [],
   "source": [
    "def ComputerPlayerRand(Tag, Board):\n",
    "    '''\n",
    "    Parameters:\n",
    "        Tag is 'X' or 'O'. If Tag is 'X': ComputerPlayer is PlayerX who goes first\n",
    "        Board is the game board, a 3x3 matrix\n",
    "    Return: ChoiceOfComputerPlayer, it is a tuple (row, col)\n",
    "    Description:\n",
    "        ComputerPlayer will choose an empty spot on the board\n",
    "        a random strategy in a while loop:\n",
    "            (1) randomly choose a spot on the Board\n",
    "            (2) if the spot is empty then return the choice (row, col)\n",
    "            (3) if the spot is not empty then go to (1)\n",
    "    Attention:\n",
    "        Board is NOT modified in this function\n",
    "    '''\n",
    "    row = random.randint(0, 3)\n",
    "    col = random.randint(0, 3)\n",
    "\n",
    "    while not IsSpaceFree(Board, row, col):\n",
    "        row = random.randint(0, 3)\n",
    "        col = random.randint(0, 3)\n",
    "\n",
    "    print('ComputerPlayer({}) has made the choice'.format(Tag))\n",
    "    return (row, col)\n",
    "\n",
    "def Judge(Board):\n",
    "    '''\n",
    "    Parameter:\n",
    "         Board is the current game board, a 3x3 matrix\n",
    "    Return: Outcome, an integer\n",
    "        Outcome is 0 if the game is still in progress\n",
    "        Outcome is 1 if player X wins\n",
    "        Outcome is 2 if player O wins\n",
    "        Outcome is 3 if it is a tie (no winner)\n",
    "    Description:\n",
    "        this funtion determines the Outcome of the game\n",
    "    hint:\n",
    "        (1) check if anyone wins, i.e., three 'X' or 'O' in\n",
    "            top row, middle row, bottom row\n",
    "            lef col, middle col, right col\n",
    "            two diagonals\n",
    "            use a if-statment to check if three 'X'/'O' in a row\n",
    "        (2) if no one wins, then check if it is a tie\n",
    "            note: if the board is fully occupied, then it is a tie\n",
    "        (3) otherwise, the game is still in progress\n",
    "    '''\n",
    "    xWin = ['X', 'X', 'X']\n",
    "    oWin = ['O', 'O', 'O']\n",
    "    print('Judging')\n",
    "    # check rows nd cols for win\n",
    "    # transpose matrix to check cols\n",
    "    newBoard = np.transpose(Board).tolist()\n",
    "    for i in range(0, 3, 1):\n",
    "        if Board[i].count('X') == 3 or newBoard[i].count('X')== 3:\n",
    "            print()\n",
    "            return 1\n",
    "        elif Board[i].count('O') == 3 or newBoard[i].count('O')== 3:\n",
    "            return 2\n",
    "\n",
    "    #check diagonal\n",
    "    if ([Board[0][0], Board[1][1], Board[2][2]] == xWin) or ([Board[0][2], Board[1][1], Board[2][0]] == xWin):\n",
    "        return 1\n",
    "    elif ([Board[0][0], Board[1][1], Board[2][2]] == oWin) or ([Board[0][2], Board[1][1], Board[2][0]] == oWin):\n",
    "        return 2\n",
    "\n",
    "    # see if its a tie\n",
    "    if (IsBoardFull(Board)):\n",
    "        return 3\n",
    "    else:\n",
    "        return 0"
   ]
  },
  {
   "cell_type": "code",
   "execution_count": null,
   "metadata": {
    "pycharm": {
     "name": "#%%\n"
    }
   },
   "outputs": [],
   "source": [
    "def ShowOutcome(Outcome, NameX, NameO):\n",
    "    '''\n",
    "    Parameters:\n",
    "        Outcome is from Judge\n",
    "        NameX is the name of PlayerX who goes first at the beginning\n",
    "        NameO is the name of PlayerO\n",
    "    Return: None\n",
    "    Description:\n",
    "        print a meassage about the Outcome\n",
    "        NameX/NameO may be 'human' or 'computer'\n",
    "    hint: the message could be\n",
    "        PlayerX (NameX, X) wins\n",
    "        PlayerO (NameO, O) wins\n",
    "        the game is still in progress\n",
    "        it is a tie\n",
    "    '''\n",
    "    outcomes = {\n",
    "        0: 'the game is still in progress',\n",
    "        1: 'PlayerX ({}, X) wins'.format(NameX),\n",
    "        2: 'PlayerO ({}, O) wins'.format(NameO),\n",
    "        3: 'it is a tie'\n",
    "    }\n",
    "    print(outcomes[Outcome])"
   ]
  },
  {
   "cell_type": "code",
   "execution_count": null,
   "metadata": {
    "pycharm": {
     "name": "#%% read but do not modify this function\n"
    }
   },
   "outputs": [],
   "source": [
    "def Which_Player_goes_first():\n",
    "    '''\n",
    "    Parameter: None\n",
    "    Return: two function objects: PlayerX, PlayerO\n",
    "    Description:\n",
    "        Randomly choose which player goes first.\n",
    "        PlayerX/PlayerO is ComputerPlayer or HumanPlayer\n",
    "    '''\n",
    "    if random.randint(0, 1) == 0:\n",
    "        print(\"Computer player goes first\")\n",
    "        PlayerX = ComputerPlayer\n",
    "        PlayerO = HumanPlayer\n",
    "    else:\n",
    "        print(\"Human player goes first\")\n",
    "        PlayerO = ComputerPlayer\n",
    "        PlayerX = HumanPlayer\n",
    "    return PlayerX, PlayerO"
   ]
  },
  {
   "cell_type": "code",
   "execution_count": null,
   "metadata": {
    "pycharm": {
     "name": "#%% the game\n"
    }
   },
   "outputs": [],
   "source": [
    "def TicTacToeGame():\n",
    "    #---------------------------------------------------\n",
    "    print(\"Wellcome to Tic Tac Toe Game\")\n",
    "    Board = [[' ', ' ', ' '],\n",
    "             [' ', ' ', ' '],\n",
    "             [' ', ' ', ' ']]\n",
    "    DrawBoard(Board)\n",
    "    # determine the order\n",
    "    PlayerX, PlayerO = Which_Player_goes_first()\n",
    "    # get the name of each function object\n",
    "    NameX = PlayerX.__name__\n",
    "    NameO = PlayerO.__name__\n",
    "    #---------------------------------------------------\n",
    "    # suggested steps in a while loop:\n",
    "    while True:\n",
    "        # (1)  get a choice from PlayerX, e.g. ChoiceX=PlayerX('X', Board)\n",
    "        choice = PlayerX('X', Board)\n",
    "        # (2)  update the Board\n",
    "        UpdateBoard(Board, 'X', choice)\n",
    "        # (3)  draw the Board\n",
    "        DrawBoard(Board)\n",
    "        # (4)  get the outcome from Judge\n",
    "        outcome = Judge(Board)\n",
    "        # (5)  show the outcome\n",
    "        ShowOutcome(outcome, NameX, NameO)\n",
    "        # (6)  if the game is completed (win or tie), then break the loop\n",
    "        if outcome == 1 or outcome == 2 or outcome == 3:\n",
    "            break\n",
    "        # (7)  get a choice from PlayerO\n",
    "        choice = PlayerO('O', Board)\n",
    "        # (8)  update the Board\n",
    "        UpdateBoard(Board, 'O', choice)\n",
    "        # (9)  draw the Board\n",
    "        DrawBoard(Board)\n",
    "        # (10) get the outcome from Judge\n",
    "        outcome = Judge(Board)\n",
    "        # (11) show the outcome\n",
    "        ShowOutcome(outcome, NameX, NameO)\n",
    "        # (12) if the game is completed (win or tie), then break the loop\n",
    "        if outcome == 1 or outcome == 2 or outcome == 3:\n",
    "            break\n",
    "    #---------------------------------------------------\n",
    "    # your code starts from here"
   ]
  },
  {
   "cell_type": "code",
   "execution_count": null,
   "metadata": {
    "pycharm": {
     "name": "#%% play the game many rounds until the user wants to quit\n"
    }
   },
   "outputs": [],
   "source": [
    "# read but do not modify this function\n",
    "def PlayGame():\n",
    "    while True:\n",
    "        TicTacToeGame()\n",
    "        print('Do you want to play again? (yes or no)')\n",
    "        if not input().lower().startswith('y'):\n",
    "            break\n",
    "    print(\"GameOver\")"
   ]
  },
  {
   "cell_type": "code",
   "execution_count": null,
   "metadata": {
    "pycharm": {
     "name": "#%% do not modify anything below\n"
    }
   },
   "outputs": [],
   "source": [
    "if __name__ == '__main__':\n",
    "    PlayGame()"
   ]
  }
 ],
 "metadata": {
  "kernelspec": {
   "display_name": "PyCharm (tic_tac_toe)",
   "language": "python",
   "name": "pycharm-c4322108"
  },
  "language_info": {
   "codemirror_mode": {
    "name": "ipython",
    "version": 3
   },
   "file_extension": ".py",
   "mimetype": "text/x-python",
   "name": "python",
   "nbconvert_exporter": "python",
   "pygments_lexer": "ipython3",
   "version": "3.8.5"
  },
  "pycharm": {
   "stem_cell": {
    "cell_type": "raw",
    "metadata": {
     "collapsed": false
    },
    "source": [
     "\"\"\"\n",
     "Course: Python for Scientist (Part-I)\n",
     "\"\"\""
    ]
   }
  }
 },
 "nbformat": 4,
 "nbformat_minor": 1
}
