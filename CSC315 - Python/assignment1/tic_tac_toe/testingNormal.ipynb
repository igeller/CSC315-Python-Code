{
 "cells": [
  {
   "cell_type": "code",
   "execution_count": null,
   "outputs": [],
   "source": [
    "def author():\n",
    "    '''\n",
    "    return your name\n",
    "    '''\n",
    "    return 'Isabelle Geller'"
   ],
   "metadata": {
    "collapsed": false,
    "pycharm": {
     "name": "#%%\n"
    }
   }
  },
  {
   "cell_type": "code",
   "execution_count": 1,
   "outputs": [],
   "source": [
    "import random\n",
    "import copy\n",
    "# %%\n",
    "def DrawBoard(Board):\n",
    "    '''\n",
    "    Parameter: Board is a 3x3 matrix (a nested list).\n",
    "    Return: None\n",
    "    Description: this function prints the chess board\n",
    "    hint: Board[i][j] is ' ' or 'X' or 'O' in row-i and col-j\n",
    "          use print function\n",
    "    '''\n",
    "    for i in range(0, 3, 1):\n",
    "        for j in range(0, 3, 1):\n",
    "            if (j == 0 or j==1):\n",
    "                print('{}|'.format(Board[i][j]), end='')\n",
    "            else:\n",
    "                print(Board[i][j], end='')\n",
    "\n",
    "        if i == 0 or i == 1:\n",
    "            print('\\n-+-+-')\n",
    "\n",
    "    print('\\n')"
   ],
   "metadata": {
    "collapsed": false,
    "pycharm": {
     "name": "#%%\n"
    }
   }
  },
  {
   "cell_type": "code",
   "execution_count": null,
   "outputs": [],
   "source": [
    "def IsSpaceFree(Board, i ,j):\n",
    "    '''\n",
    "    Parameters: Board is the game board, a 3x3 matrix\n",
    "                i is the row index, j is the col index\n",
    "    Return: True or False\n",
    "    Description:\n",
    "        (1) return True  if Board[i][j] is empty ' '\n",
    "        (2) return False if Board[i][j] is not empty\n",
    "        (3) return False if i or j is invalid (e.g. i = -1 or 100)\n",
    "        think about the order of (1) (2) (3)\n",
    "        Board[-1][100] will raise error/exception\n",
    "    '''\n",
    "    if (i not in range(0, 3, 1)) or (j not in range(0, 3, 1)) or (Board[i][j] != ' '):\n",
    "        return False\n",
    "    elif Board[i][j] == ' ':\n",
    "        return True"
   ],
   "metadata": {
    "collapsed": false,
    "pycharm": {
     "name": "#%%\n"
    }
   }
  },
  {
   "cell_type": "code",
   "execution_count": null,
   "outputs": [],
   "source": [
    "def GetNumberOfChessPieces(Board):\n",
    "    '''\n",
    "    Parameter: Board is the game board, a 3x3 matrix\n",
    "    Return: the number of chess piceces on Board\n",
    "            i.e. the total number of 'X' and 'O'\n",
    "    hint: define a counter and use a nested for loop, like this\n",
    "          for i in 0 to 3\n",
    "              for j in 0 to 3\n",
    "                  add one to the counter if Board[i][j] is not empty\n",
    "    '''\n",
    "    totalPieces = 0\n",
    "\n",
    "    for i in range(0, 3, 1):\n",
    "        for j in range(0, 3, 1):\n",
    "            if Board[i][j] != ' ':\n",
    "                totalPieces += 1\n",
    "\n",
    "    return totalPieces"
   ],
   "metadata": {
    "collapsed": false,
    "pycharm": {
     "name": "#%%\n"
    }
   }
  },
  {
   "cell_type": "code",
   "execution_count": null,
   "outputs": [],
   "source": [
    "def IsBoardFull(Board):\n",
    "    '''\n",
    "    Parameter: Board is the game board, a 3x3 matrix\n",
    "    Return: True or False\n",
    "    Description:\n",
    "        return True if the Board is fully occupied\n",
    "        return False otherwise\n",
    "    hint: use GetNumberOfChessPieces\n",
    "    '''\n",
    "    if GetNumberOfChessPieces(Board) == 9:\n",
    "        return True\n",
    "    else:\n",
    "        return False"
   ],
   "metadata": {
    "collapsed": false,
    "pycharm": {
     "name": "#%%\n"
    }
   }
  },
  {
   "cell_type": "code",
   "execution_count": null,
   "outputs": [],
   "source": [
    "def IsBoardEmpy(Board):\n",
    "    '''\n",
    "    Parameter: Board is the game board, a 3x3 matrix\n",
    "    Return: True or False\n",
    "    Description:\n",
    "        return True if the Board is empty\n",
    "        return False otherwise\n",
    "    hint: use GetNumberOfChessPieces\n",
    "    '''\n",
    "    if GetNumberOfChessPieces(Board) == 0:\n",
    "        return True\n",
    "    else:\n",
    "        return False"
   ],
   "metadata": {
    "collapsed": false,
    "pycharm": {
     "name": "#%%\n"
    }
   }
  },
  {
   "cell_type": "code",
   "execution_count": null,
   "outputs": [],
   "source": [
    "def UpdateBoard(Board, Tag, Choice):\n",
    "    '''\n",
    "    Parameters:\n",
    "        Board is the game board, a 3x3 matrix\n",
    "        Tag is 'O' or 'X'\n",
    "        Choice is a tuple (row, col) from HumanPlayer or ComputerPlayer\n",
    "    Return: None\n",
    "    Description:\n",
    "         Update the Board after a player makes a choice\n",
    "         Set an element of the Board to Tag at the location (row, col)\n",
    "    '''\n",
    "    row = int(Choice[0])\n",
    "    col = int(Choice[1])\n",
    "    Board[row][col] = Tag"
   ],
   "metadata": {
    "collapsed": false,
    "pycharm": {
     "name": "#%%\n"
    }
   }
  },
  {
   "cell_type": "code",
   "execution_count": null,
   "outputs": [],
   "source": [
    "def HumanPlayer(Tag, Board):\n",
    "    '''\n",
    "    Parameters:\n",
    "        Tag is 'X' or 'O'. If Tag is 'X': HumanPlayer is PlayerX who goes first\n",
    "        Board is the game board, a 3x3 matrix\n",
    "    Return: ChoiceOfHumanPlayer, it is a tuple (row, col)\n",
    "    Description:\n",
    "        This function will NOT return until it gets a valid input from the user\n",
    "    Attention:\n",
    "        Board is NOT modified in this function\n",
    "    hint:\n",
    "        a while loop is needed, see HumanPlayer in rock-papper-scissors\n",
    "        the user needs to input row-index and col-index, where a new chess will be placed\n",
    "        use int() to convert string to int\n",
    "        use try-except to handle exceptions if the user inputs some random string\n",
    "        if (row, col) has been occupied, then ask the user to choose another spot\n",
    "        if (row, col) is invalid, then ask the user to choose a valid spot\n",
    "    '''\n",
    "    row = None\n",
    "    col = None\n",
    "    print('make your choice\\n')\n",
    "    while True:\n",
    "        if not isinstance(row, int) or row not in range(0,3):\n",
    "            try:\n",
    "                row = int(input(\"row = \"))\n",
    "                Board[row]\n",
    "                continue\n",
    "            except ValueError:\n",
    "                print(\"Oops! That was not a valid number. Try again...\")\n",
    "            except IndexError:\n",
    "                print(\"Oops! That number is out of bounds. Try again...\")\n",
    "        elif not isinstance(col, int) or col not in range(0, 3):\n",
    "            try:\n",
    "                col = int(input(\"col = \"))\n",
    "                Board[col] #does not matter if we check in col area bc its a 3x3\n",
    "                continue\n",
    "            except ValueError:\n",
    "                print(\"Oops! That was not a valid number. Try again...\")\n",
    "            except IndexError:\n",
    "                print(\"Oops! That number is out of bounds. Try again...\")\n",
    "        if not IsSpaceFree(Board, row, col):\n",
    "            row = None\n",
    "            col = None\n",
    "            print(\"Oops! That space is already taken. Try again...\")\n",
    "        else:\n",
    "            break\n",
    "\n",
    "    print('HumanPlayer({}) has made the choice'.format(Tag))\n",
    "    return (row, col)\n"
   ],
   "metadata": {
    "collapsed": false,
    "pycharm": {
     "name": "#%%\n"
    }
   }
  },
  {
   "cell_type": "code",
   "execution_count": null,
   "outputs": [],
   "source": [
    "def ComputerPlayer(Tag, Board):\n",
    "    '''\n",
    "    Parameters:\n",
    "        Tag is 'X' or 'O'. If Tag is 'X': ComputerPlayer is PlayerX who goes first\n",
    "        Board is the game board, a 3x3 matrix\n",
    "    Return: ChoiceOfComputerPlayer, it is a tuple (row, col)\n",
    "    Description:\n",
    "        ComputerPlayer will choose an empty spot on the board\n",
    "        a random strategy in a while loop:\n",
    "            (1) randomly choose a spot on the Board\n",
    "            (2) if the spot is empty then return the choice (row, col)\n",
    "            (3) if the spot is not empty then go to (1)\n",
    "    Attention:\n",
    "        Board is NOT modified in this function\n",
    "    '''\n",
    "    row = random.randint(0, 3)\n",
    "    col = random.randint(0, 3)\n",
    "\n",
    "    while not IsSpaceFree(Board, row, col):\n",
    "        row = random.randint(0, 3)\n",
    "        col = random.randint(0, 3)\n",
    "\n",
    "    print('ComputerPlayer({}) has made the choice'.format(Tag))\n",
    "    return (row, col)"
   ],
   "metadata": {
    "collapsed": false,
    "pycharm": {
     "name": "#%%\n"
    }
   }
  },
  {
   "cell_type": "code",
   "execution_count": null,
   "outputs": [],
   "source": [
    "def Judge(Board):\n",
    "    '''\n",
    "    Parameter:\n",
    "         Board is the current game board, a 3x3 matrix\n",
    "    Return: Outcome, an integer\n",
    "        Outcome is 0 if the game is still in progress\n",
    "        Outcome is 1 if player X wins\n",
    "        Outcome is 2 if player O wins\n",
    "        Outcome is 3 if it is a tie (no winner)\n",
    "    Description:\n",
    "        this funtion determines the Outcome of the game\n",
    "    hint:\n",
    "        (1) check if anyone wins, i.e., three 'X' or 'O' in\n",
    "            top row, middle row, bottom row\n",
    "            lef col, middle col, right col\n",
    "            two diagonals\n",
    "            use a if-statment to check if three 'X'/'O' in a row\n",
    "        (2) if no one wins, then check if it is a tie\n",
    "            note: if the board is fully occupied, then it is a tie\n",
    "        (3) otherwise, the game is still in progress\n",
    "    '''\n",
    "    xWin = ['X', 'X', 'X']\n",
    "    oWin = ['O', 'O', 'O']\n",
    "\n",
    "    # check rows nd cols for win\n",
    "    # transpose matrix to check cols\n",
    "    zipped_rows = zip(*Board)\n",
    "    transpose_matrix = [list(row) for row in zipped_rows]\n",
    "\n",
    "    for i in range(0, 3, 1):\n",
    "        if Board[i] == xWin or transpose_matrix[i] ==xWin:\n",
    "            return 1\n",
    "        elif Board[i] == oWin or transpose_matrix[i] == oWin:\n",
    "            return 2\n",
    "\n",
    "    #check diagonal\n",
    "    if ([Board[0][0], Board[1][1], Board[2][2]] == xWin) or ([Board[0][2], Board[1][1], Board[2][0]] == xWin):\n",
    "        return 1\n",
    "    elif ([Board[0][0], Board[1][1], Board[2][2]] == oWin) or ([Board[0][2], Board[1][1], Board[2][0]] == oWin):\n",
    "        return 2\n",
    "\n",
    "    # see if its a tie\n",
    "    if (IsBoardFull(Board)):\n",
    "        return 3\n",
    "    else:\n",
    "        return 0;"
   ],
   "metadata": {
    "collapsed": false,
    "pycharm": {
     "name": "#%%\n"
    }
   }
  },
  {
   "cell_type": "code",
   "execution_count": null,
   "outputs": [],
   "source": [
    "def ShowOutcome(Outcome, NameX, NameO):\n",
    "    '''\n",
    "    Parameters:\n",
    "        Outcome is from Judge\n",
    "        NameX is the name of PlayerX who goes first at the beginning\n",
    "        NameO is the name of PlayerO\n",
    "    Return: None\n",
    "    Description:\n",
    "        print a meassage about the Outcome\n",
    "        NameX/NameO may be 'human' or 'computer'\n",
    "    hint: the message could be\n",
    "        PlayerX (NameX, X) wins\n",
    "        PlayerO (NameO, O) wins\n",
    "        the game is still in progress\n",
    "        it is a tie\n",
    "    '''\n",
    "    outcomes = {\n",
    "        0: 'the game is still in progress',\n",
    "        1: 'PlayerX ({}, X) wins'.format(NameX),\n",
    "        2: 'PlayerX ({}, X) wins'.format(NameO),\n",
    "        3: 'it is a tie'\n",
    "    }\n",
    "    print(outcomes[Outcome])"
   ],
   "metadata": {
    "collapsed": false,
    "pycharm": {
     "name": "#%%\n"
    }
   }
  },
  {
   "cell_type": "code",
   "execution_count": null,
   "outputs": [],
   "source": [
    "def Which_Player_goes_first():\n",
    "    '''\n",
    "    Parameter: None\n",
    "    Return: two function objects: PlayerX, PlayerO\n",
    "    Description:\n",
    "        Randomly choose which player goes first.\n",
    "        PlayerX/PlayerO is ComputerPlayer or HumanPlayer\n",
    "    '''\n",
    "    if random.randint(0, 1) == 0:\n",
    "        print(\"Computer player goes first\")\n",
    "        PlayerX = ComputerPlayer\n",
    "        PlayerO = HumanPlayer\n",
    "    else:\n",
    "        print(\"Human player goes first\")\n",
    "        PlayerO = ComputerPlayer\n",
    "        PlayerX = HumanPlayer\n",
    "    return PlayerX, PlayerO"
   ],
   "metadata": {
    "collapsed": false,
    "pycharm": {
     "name": "#%% read but do not modify this function\n"
    }
   }
  },
  {
   "cell_type": "code",
   "execution_count": null,
   "outputs": [],
   "source": [
    "def TicTacToeGame():\n",
    "    #---------------------------------------------------\n",
    "    print(\"Wellcome to Tic Tac Toe Game\")\n",
    "    Board = [[' ', ' ', ' '],\n",
    "             [' ', ' ', ' '],\n",
    "             [' ', ' ', ' ']]\n",
    "    DrawBoard(Board)\n",
    "    # determine the order\n",
    "    PlayerX, PlayerO = Which_Player_goes_first()\n",
    "    # get the name of each function object\n",
    "    NameX = PlayerX.__name__\n",
    "    NameO = PlayerO.__name__\n",
    "    #---------------------------------------------------\n",
    "    # suggested steps in a while loop:\n",
    "    while True:\n",
    "        # (1)  get a choice from PlayerX, e.g. ChoiceX=PlayerX('X', Board)\n",
    "        choice = PlayerX('X', Board)\n",
    "        # (2)  update the Board\n",
    "        UpdateBoard(Board, 'X', choice)\n",
    "        # (3)  draw the Board\n",
    "        DrawBoard(Board)\n",
    "        # (4)  get the outcome from Judge\n",
    "        outcome = Judge(Board)\n",
    "        # (5)  show the outcome\n",
    "        ShowOutcome(outcome, NameX, NameO)\n",
    "        # (6)  if the game is completed (win or tie), then break the loop\n",
    "        if outcome == 1 or outcome == 2 or outcome == 3:\n",
    "            break\n",
    "        # (7)  get a choice from PlayerO\n",
    "        choice = PlayerO('O', Board)\n",
    "        # (8)  update the Board\n",
    "        UpdateBoard(Board, 'O', choice)\n",
    "        # (9)  draw the Board\n",
    "        DrawBoard(Board)\n",
    "        # (10) get the outcome from Judge\n",
    "        outcome = Judge(Board)\n",
    "        # (11) show the outcome\n",
    "        ShowOutcome(outcome, NameX, NameO)\n",
    "        # (12) if the game is completed (win or tie), then break the loop\n",
    "        if outcome == 1 or outcome == 2 or outcome == 3:\n",
    "            break\n",
    "    #---------------------------------------------------\n",
    "    # your code starts from here"
   ],
   "metadata": {
    "collapsed": false,
    "pycharm": {
     "name": "#%% the game\n"
    }
   }
  },
  {
   "cell_type": "code",
   "execution_count": 5,
   "outputs": [],
   "source": [
    "# read but do not modify this function\n",
    "def PlayGame():\n",
    "    while True:\n",
    "        TicTacToeGame()\n",
    "        print('Do you want to play again? (yes or no)')\n",
    "        if not input().lower().startswith('y'):\n",
    "            break\n",
    "    print(\"GameOver\")"
   ],
   "metadata": {
    "collapsed": false,
    "pycharm": {
     "name": "#%% play the game many rounds until the user wants to quit\n"
    }
   }
  },
  {
   "cell_type": "code",
   "execution_count": 4,
   "outputs": [
    {
     "ename": "NameError",
     "evalue": "name 'PlayGame' is not defined",
     "output_type": "error",
     "traceback": [
      "\u001B[0;31m---------------------------------------------------------------------------\u001B[0m",
      "\u001B[0;31mNameError\u001B[0m                                 Traceback (most recent call last)",
      "\u001B[0;32m<ipython-input-4-7a068f669db4>\u001B[0m in \u001B[0;36m<module>\u001B[0;34m\u001B[0m\n\u001B[1;32m      1\u001B[0m \u001B[0;32mif\u001B[0m \u001B[0m__name__\u001B[0m \u001B[0;34m==\u001B[0m \u001B[0;34m'__main__'\u001B[0m\u001B[0;34m:\u001B[0m\u001B[0;34m\u001B[0m\u001B[0;34m\u001B[0m\u001B[0m\n\u001B[0;32m----> 2\u001B[0;31m     \u001B[0mPlayGame\u001B[0m\u001B[0;34m(\u001B[0m\u001B[0;34m)\u001B[0m\u001B[0;34m\u001B[0m\u001B[0;34m\u001B[0m\u001B[0m\n\u001B[0m",
      "\u001B[0;31mNameError\u001B[0m: name 'PlayGame' is not defined"
     ]
    }
   ],
   "source": [
    "if __name__ == '__main__':\n",
    "    PlayGame()"
   ],
   "metadata": {
    "collapsed": false,
    "pycharm": {
     "name": "#%% do not modify anything below\n"
    }
   }
  }
 ],
 "metadata": {
  "kernelspec": {
   "display_name": "Python 3",
   "language": "python",
   "name": "python3"
  },
  "language_info": {
   "codemirror_mode": {
    "name": "ipython",
    "version": 2
   },
   "file_extension": ".py",
   "mimetype": "text/x-python",
   "name": "python",
   "nbconvert_exporter": "python",
   "pygments_lexer": "ipython2",
   "version": "2.7.6"
  },
  "pycharm": {
   "stem_cell": {
    "cell_type": "raw",
    "source": [
     "\"\"\"\n",
     "Course: Python for Scientist (Part-I)\n",
     "\"\"\""
    ],
    "metadata": {
     "collapsed": false
    }
   }
  }
 },
 "nbformat": 4,
 "nbformat_minor": 0
}