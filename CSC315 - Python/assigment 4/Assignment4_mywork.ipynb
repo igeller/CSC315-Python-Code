{
 "cells": [
  {
   "cell_type": "markdown",
   "metadata": {},
   "source": [
    "# Assignment 4 - Regression to predict house price\n",
    "We will apply several regression methods to predict house price by using the feasures of a house. <br>\n",
    "If you need some motivation to do this task, see this <br>\n",
    "a similar dataset on https://www.kaggle.com/c/zillow-prize-1 ($1,200,000 award)\n",
    "### This is a guided-task:\n",
    "The assignment is a complex task, not easy for beginners like you. <br>\n",
    "Doing a real application like this is much better than doing many simple tasks using simple datasets <br>\n",
    "You will see the output of a code cell and then figure out the code in that cell. <br>\n",
    "Your figures and numbers should be close to (but do not need to be exactly the same as) those shown in Out[?] <br>\n",
    "In each code cell, there are instructions to help you. <br>\n",
    "This is a very efficient and effective way to learn how to program with sk-learn <br>\n",
    "You will do programming after you see \"Your work begins here\""
   ]
  },
  {
   "cell_type": "code",
   "execution_count": 423,
   "metadata": {},
   "outputs": [],
   "source": [
    "%matplotlib inline\n",
    "import numpy as np\n",
    "import pandas as pd\n",
    "import matplotlib.pyplot as plt\n",
    "import seaborn as sns\n",
    "from sklearn.model_selection import train_test_split"
   ]
  },
  {
   "cell_type": "markdown",
   "metadata": {},
   "source": [
    "## Load the training and test datasets\n",
    "https://www.kaggle.com/c/house-prices-advanced-regression-techniques"
   ]
  },
  {
   "cell_type": "code",
   "execution_count": 424,
   "metadata": {},
   "outputs": [
    {
     "name": "stdout",
     "output_type": "stream",
     "text": [
      "data_train.shape (1460, 82)\n",
      "data_test.shape (1459, 82)\n",
      "data.shape (2919, 82)\n"
     ]
    }
   ],
   "source": [
    "data_train = pd.read_csv(\"housing_train.csv\")\n",
    "data_test = pd.read_csv(\"housing_test.csv\")\n",
    "data_test_y = pd.read_csv(\"housing_test_y.csv\")\n",
    "data_test['SalePrice']=data_test_y['SalePrice']\n",
    "data_train['train']=1\n",
    "data_test['train']=0\n",
    "#combine data_train, data_test so that we can 'clean' them together\n",
    "data = pd.concat([data_train, data_test], axis=0, sort=False)\n",
    "print('data_train.shape', data_train.shape)\n",
    "print('data_test.shape', data_test.shape)\n",
    "print('data.shape', data.shape)"
   ]
  },
  {
   "cell_type": "code",
   "execution_count": 425,
   "metadata": {
    "scrolled": true
   },
   "outputs": [
    {
     "data": {
      "text/plain": "   Id  MSSubClass MSZoning  LotFrontage  LotArea Street Alley LotShape  \\\n0   1          60       RL         65.0     8450   Pave   NaN      Reg   \n1   2          20       RL         80.0     9600   Pave   NaN      Reg   \n2   3          60       RL         68.0    11250   Pave   NaN      IR1   \n3   4          70       RL         60.0     9550   Pave   NaN      IR1   \n4   5          60       RL         84.0    14260   Pave   NaN      IR1   \n\n  LandContour Utilities  ... PoolQC Fence MiscFeature MiscVal MoSold YrSold  \\\n0         Lvl    AllPub  ...    NaN   NaN         NaN       0      2   2008   \n1         Lvl    AllPub  ...    NaN   NaN         NaN       0      5   2007   \n2         Lvl    AllPub  ...    NaN   NaN         NaN       0      9   2008   \n3         Lvl    AllPub  ...    NaN   NaN         NaN       0      2   2006   \n4         Lvl    AllPub  ...    NaN   NaN         NaN       0     12   2008   \n\n  SaleType  SaleCondition  SalePrice  train  \n0       WD         Normal   208500.0      1  \n1       WD         Normal   181500.0      1  \n2       WD         Normal   223500.0      1  \n3       WD        Abnorml   140000.0      1  \n4       WD         Normal   250000.0      1  \n\n[5 rows x 82 columns]",
      "text/html": "<div>\n<style scoped>\n    .dataframe tbody tr th:only-of-type {\n        vertical-align: middle;\n    }\n\n    .dataframe tbody tr th {\n        vertical-align: top;\n    }\n\n    .dataframe thead th {\n        text-align: right;\n    }\n</style>\n<table border=\"1\" class=\"dataframe\">\n  <thead>\n    <tr style=\"text-align: right;\">\n      <th></th>\n      <th>Id</th>\n      <th>MSSubClass</th>\n      <th>MSZoning</th>\n      <th>LotFrontage</th>\n      <th>LotArea</th>\n      <th>Street</th>\n      <th>Alley</th>\n      <th>LotShape</th>\n      <th>LandContour</th>\n      <th>Utilities</th>\n      <th>...</th>\n      <th>PoolQC</th>\n      <th>Fence</th>\n      <th>MiscFeature</th>\n      <th>MiscVal</th>\n      <th>MoSold</th>\n      <th>YrSold</th>\n      <th>SaleType</th>\n      <th>SaleCondition</th>\n      <th>SalePrice</th>\n      <th>train</th>\n    </tr>\n  </thead>\n  <tbody>\n    <tr>\n      <th>0</th>\n      <td>1</td>\n      <td>60</td>\n      <td>RL</td>\n      <td>65.0</td>\n      <td>8450</td>\n      <td>Pave</td>\n      <td>NaN</td>\n      <td>Reg</td>\n      <td>Lvl</td>\n      <td>AllPub</td>\n      <td>...</td>\n      <td>NaN</td>\n      <td>NaN</td>\n      <td>NaN</td>\n      <td>0</td>\n      <td>2</td>\n      <td>2008</td>\n      <td>WD</td>\n      <td>Normal</td>\n      <td>208500.0</td>\n      <td>1</td>\n    </tr>\n    <tr>\n      <th>1</th>\n      <td>2</td>\n      <td>20</td>\n      <td>RL</td>\n      <td>80.0</td>\n      <td>9600</td>\n      <td>Pave</td>\n      <td>NaN</td>\n      <td>Reg</td>\n      <td>Lvl</td>\n      <td>AllPub</td>\n      <td>...</td>\n      <td>NaN</td>\n      <td>NaN</td>\n      <td>NaN</td>\n      <td>0</td>\n      <td>5</td>\n      <td>2007</td>\n      <td>WD</td>\n      <td>Normal</td>\n      <td>181500.0</td>\n      <td>1</td>\n    </tr>\n    <tr>\n      <th>2</th>\n      <td>3</td>\n      <td>60</td>\n      <td>RL</td>\n      <td>68.0</td>\n      <td>11250</td>\n      <td>Pave</td>\n      <td>NaN</td>\n      <td>IR1</td>\n      <td>Lvl</td>\n      <td>AllPub</td>\n      <td>...</td>\n      <td>NaN</td>\n      <td>NaN</td>\n      <td>NaN</td>\n      <td>0</td>\n      <td>9</td>\n      <td>2008</td>\n      <td>WD</td>\n      <td>Normal</td>\n      <td>223500.0</td>\n      <td>1</td>\n    </tr>\n    <tr>\n      <th>3</th>\n      <td>4</td>\n      <td>70</td>\n      <td>RL</td>\n      <td>60.0</td>\n      <td>9550</td>\n      <td>Pave</td>\n      <td>NaN</td>\n      <td>IR1</td>\n      <td>Lvl</td>\n      <td>AllPub</td>\n      <td>...</td>\n      <td>NaN</td>\n      <td>NaN</td>\n      <td>NaN</td>\n      <td>0</td>\n      <td>2</td>\n      <td>2006</td>\n      <td>WD</td>\n      <td>Abnorml</td>\n      <td>140000.0</td>\n      <td>1</td>\n    </tr>\n    <tr>\n      <th>4</th>\n      <td>5</td>\n      <td>60</td>\n      <td>RL</td>\n      <td>84.0</td>\n      <td>14260</td>\n      <td>Pave</td>\n      <td>NaN</td>\n      <td>IR1</td>\n      <td>Lvl</td>\n      <td>AllPub</td>\n      <td>...</td>\n      <td>NaN</td>\n      <td>NaN</td>\n      <td>NaN</td>\n      <td>0</td>\n      <td>12</td>\n      <td>2008</td>\n      <td>WD</td>\n      <td>Normal</td>\n      <td>250000.0</td>\n      <td>1</td>\n    </tr>\n  </tbody>\n</table>\n<p>5 rows × 82 columns</p>\n</div>"
     },
     "execution_count": 425,
     "metadata": {},
     "output_type": "execute_result"
    }
   ],
   "source": [
    "data.head()"
   ]
  },
  {
   "cell_type": "markdown",
   "metadata": {},
   "source": [
    "the regression target/output is SalePrice"
   ]
  },
  {
   "cell_type": "code",
   "execution_count": 426,
   "metadata": {},
   "outputs": [
    {
     "data": {
      "text/plain": "0    208500.0\n1    181500.0\n2    223500.0\n3    140000.0\n4    250000.0\nName: SalePrice, dtype: float64"
     },
     "execution_count": 426,
     "metadata": {},
     "output_type": "execute_result"
    }
   ],
   "source": [
    "data.head().SalePrice"
   ]
  },
  {
   "cell_type": "markdown",
   "metadata": {},
   "source": [
    "## Handle missing values (NaN and None)\n",
    "show the missing values for each feature"
   ]
  },
  {
   "cell_type": "code",
   "execution_count": 427,
   "metadata": {},
   "outputs": [
    {
     "data": {
      "text/plain": "              Train  Test\nMSZoning          0     4\nLotFrontage     259   227\nAlley          1369  1352\nUtilities         0     2\nExterior1st       0     1\nExterior2nd       0     1\nMasVnrType        8    16\nMasVnrArea        8    15\nBsmtQual         37    44\nBsmtCond         37    45\nBsmtExposure     38    44\nBsmtFinType1     37    42\nBsmtFinSF1        0     1\nBsmtFinType2     38    42\nBsmtFinSF2        0     1\nBsmtUnfSF         0     1\nTotalBsmtSF       0     1\nElectrical        1     0\nBsmtFullBath      0     2\nBsmtHalfBath      0     2\nKitchenQual       0     1\nFunctional        0     2\nFireplaceQu     690   730\nGarageType       81    76\nGarageYrBlt      81    78\nGarageFinish     81    78\nGarageCars        0     1\nGarageArea        0     1\nGarageQual       81    78\nGarageCond       81    78\nPoolQC         1453  1456\nFence          1179  1169\nMiscFeature    1406  1408\nSaleType          0     1",
      "text/html": "<div>\n<style scoped>\n    .dataframe tbody tr th:only-of-type {\n        vertical-align: middle;\n    }\n\n    .dataframe tbody tr th {\n        vertical-align: top;\n    }\n\n    .dataframe thead th {\n        text-align: right;\n    }\n</style>\n<table border=\"1\" class=\"dataframe\">\n  <thead>\n    <tr style=\"text-align: right;\">\n      <th></th>\n      <th>Train</th>\n      <th>Test</th>\n    </tr>\n  </thead>\n  <tbody>\n    <tr>\n      <th>MSZoning</th>\n      <td>0</td>\n      <td>4</td>\n    </tr>\n    <tr>\n      <th>LotFrontage</th>\n      <td>259</td>\n      <td>227</td>\n    </tr>\n    <tr>\n      <th>Alley</th>\n      <td>1369</td>\n      <td>1352</td>\n    </tr>\n    <tr>\n      <th>Utilities</th>\n      <td>0</td>\n      <td>2</td>\n    </tr>\n    <tr>\n      <th>Exterior1st</th>\n      <td>0</td>\n      <td>1</td>\n    </tr>\n    <tr>\n      <th>Exterior2nd</th>\n      <td>0</td>\n      <td>1</td>\n    </tr>\n    <tr>\n      <th>MasVnrType</th>\n      <td>8</td>\n      <td>16</td>\n    </tr>\n    <tr>\n      <th>MasVnrArea</th>\n      <td>8</td>\n      <td>15</td>\n    </tr>\n    <tr>\n      <th>BsmtQual</th>\n      <td>37</td>\n      <td>44</td>\n    </tr>\n    <tr>\n      <th>BsmtCond</th>\n      <td>37</td>\n      <td>45</td>\n    </tr>\n    <tr>\n      <th>BsmtExposure</th>\n      <td>38</td>\n      <td>44</td>\n    </tr>\n    <tr>\n      <th>BsmtFinType1</th>\n      <td>37</td>\n      <td>42</td>\n    </tr>\n    <tr>\n      <th>BsmtFinSF1</th>\n      <td>0</td>\n      <td>1</td>\n    </tr>\n    <tr>\n      <th>BsmtFinType2</th>\n      <td>38</td>\n      <td>42</td>\n    </tr>\n    <tr>\n      <th>BsmtFinSF2</th>\n      <td>0</td>\n      <td>1</td>\n    </tr>\n    <tr>\n      <th>BsmtUnfSF</th>\n      <td>0</td>\n      <td>1</td>\n    </tr>\n    <tr>\n      <th>TotalBsmtSF</th>\n      <td>0</td>\n      <td>1</td>\n    </tr>\n    <tr>\n      <th>Electrical</th>\n      <td>1</td>\n      <td>0</td>\n    </tr>\n    <tr>\n      <th>BsmtFullBath</th>\n      <td>0</td>\n      <td>2</td>\n    </tr>\n    <tr>\n      <th>BsmtHalfBath</th>\n      <td>0</td>\n      <td>2</td>\n    </tr>\n    <tr>\n      <th>KitchenQual</th>\n      <td>0</td>\n      <td>1</td>\n    </tr>\n    <tr>\n      <th>Functional</th>\n      <td>0</td>\n      <td>2</td>\n    </tr>\n    <tr>\n      <th>FireplaceQu</th>\n      <td>690</td>\n      <td>730</td>\n    </tr>\n    <tr>\n      <th>GarageType</th>\n      <td>81</td>\n      <td>76</td>\n    </tr>\n    <tr>\n      <th>GarageYrBlt</th>\n      <td>81</td>\n      <td>78</td>\n    </tr>\n    <tr>\n      <th>GarageFinish</th>\n      <td>81</td>\n      <td>78</td>\n    </tr>\n    <tr>\n      <th>GarageCars</th>\n      <td>0</td>\n      <td>1</td>\n    </tr>\n    <tr>\n      <th>GarageArea</th>\n      <td>0</td>\n      <td>1</td>\n    </tr>\n    <tr>\n      <th>GarageQual</th>\n      <td>81</td>\n      <td>78</td>\n    </tr>\n    <tr>\n      <th>GarageCond</th>\n      <td>81</td>\n      <td>78</td>\n    </tr>\n    <tr>\n      <th>PoolQC</th>\n      <td>1453</td>\n      <td>1456</td>\n    </tr>\n    <tr>\n      <th>Fence</th>\n      <td>1179</td>\n      <td>1169</td>\n    </tr>\n    <tr>\n      <th>MiscFeature</th>\n      <td>1406</td>\n      <td>1408</td>\n    </tr>\n    <tr>\n      <th>SaleType</th>\n      <td>0</td>\n      <td>1</td>\n    </tr>\n  </tbody>\n</table>\n</div>"
     },
     "execution_count": 427,
     "metadata": {},
     "output_type": "execute_result"
    }
   ],
   "source": [
    "#show the missing values in a table\n",
    "Missing = pd.concat([data_train.isnull().sum(), data_test.isnull().sum()], axis=1,\n",
    "                    keys=['Train', 'Test'],sort=False)\n",
    "Missing[Missing.sum(axis=1) > 0]"
   ]
  },
  {
   "cell_type": "code",
   "execution_count": 428,
   "metadata": {},
   "outputs": [
    {
     "data": {
      "text/plain": "<AxesSubplot:>"
     },
     "execution_count": 428,
     "metadata": {},
     "output_type": "execute_result"
    },
    {
     "data": {
      "text/plain": "<Figure size 864x432 with 1 Axes>",
      "image/png": "[encoded data removed]"
     },
     "metadata": {
      "needs_background": "light"
     },
     "output_type": "display_data"
    }
   ],
   "source": [
    "#show the missing values in a plot\n",
    "data_missing = (data.isnull().sum(axis=0)/data.shape[0]) * 100\n",
    "data_missing = data_missing.drop(data_missing[data_missing == 0].index).sort_values(ascending=False)\n",
    "plt.figure(figsize=(12, 6))\n",
    "plt.xticks(rotation=\"90\")\n",
    "sns.barplot(x=data_missing.index, y=data_missing)"
   ]
  },
  {
   "cell_type": "markdown",
   "metadata": {},
   "source": [
    "From the figure, we see that nearly 100% values of the feature/column 'PoolQC' are missing <br>\n",
    "We can simply delete these features (drop these columns from the table) of which >=50% values are missing"
   ]
  },
  {
   "cell_type": "code",
   "execution_count": 429,
   "metadata": {},
   "outputs": [
    {
     "data": {
      "text/plain": "Index(['PoolQC', 'MiscFeature', 'Alley', 'Fence'], dtype='object')"
     },
     "execution_count": 429,
     "metadata": {},
     "output_type": "execute_result"
    }
   ],
   "source": [
    "feature_drop = data_missing[data_missing >=50].index\n",
    "feature_drop"
   ]
  },
  {
   "cell_type": "code",
   "execution_count": 430,
   "metadata": {},
   "outputs": [],
   "source": [
    "#drop the columns\n",
    "data=data.drop(columns=feature_drop)\n",
    "#drop Id\n",
    "data=data.drop(columns='Id')"
   ]
  },
  {
   "cell_type": "code",
   "execution_count": 431,
   "metadata": {},
   "outputs": [
    {
     "data": {
      "text/plain": "   MSSubClass MSZoning  LotFrontage  LotArea Street LotShape LandContour  \\\n0          60       RL         65.0     8450   Pave      Reg         Lvl   \n1          20       RL         80.0     9600   Pave      Reg         Lvl   \n2          60       RL         68.0    11250   Pave      IR1         Lvl   \n3          70       RL         60.0     9550   Pave      IR1         Lvl   \n4          60       RL         84.0    14260   Pave      IR1         Lvl   \n\n  Utilities LotConfig LandSlope  ... 3SsnPorch ScreenPorch PoolArea MiscVal  \\\n0    AllPub    Inside       Gtl  ...         0           0        0       0   \n1    AllPub       FR2       Gtl  ...         0           0        0       0   \n2    AllPub    Inside       Gtl  ...         0           0        0       0   \n3    AllPub    Corner       Gtl  ...         0           0        0       0   \n4    AllPub       FR2       Gtl  ...         0           0        0       0   \n\n  MoSold  YrSold  SaleType  SaleCondition  SalePrice train  \n0      2    2008        WD         Normal   208500.0     1  \n1      5    2007        WD         Normal   181500.0     1  \n2      9    2008        WD         Normal   223500.0     1  \n3      2    2006        WD        Abnorml   140000.0     1  \n4     12    2008        WD         Normal   250000.0     1  \n\n[5 rows x 77 columns]",
      "text/html": "<div>\n<style scoped>\n    .dataframe tbody tr th:only-of-type {\n        vertical-align: middle;\n    }\n\n    .dataframe tbody tr th {\n        vertical-align: top;\n    }\n\n    .dataframe thead th {\n        text-align: right;\n    }\n</style>\n<table border=\"1\" class=\"dataframe\">\n  <thead>\n    <tr style=\"text-align: right;\">\n      <th></th>\n      <th>MSSubClass</th>\n      <th>MSZoning</th>\n      <th>LotFrontage</th>\n      <th>LotArea</th>\n      <th>Street</th>\n      <th>LotShape</th>\n      <th>LandContour</th>\n      <th>Utilities</th>\n      <th>LotConfig</th>\n      <th>LandSlope</th>\n      <th>...</th>\n      <th>3SsnPorch</th>\n      <th>ScreenPorch</th>\n      <th>PoolArea</th>\n      <th>MiscVal</th>\n      <th>MoSold</th>\n      <th>YrSold</th>\n      <th>SaleType</th>\n      <th>SaleCondition</th>\n      <th>SalePrice</th>\n      <th>train</th>\n    </tr>\n  </thead>\n  <tbody>\n    <tr>\n      <th>0</th>\n      <td>60</td>\n      <td>RL</td>\n      <td>65.0</td>\n      <td>8450</td>\n      <td>Pave</td>\n      <td>Reg</td>\n      <td>Lvl</td>\n      <td>AllPub</td>\n      <td>Inside</td>\n      <td>Gtl</td>\n      <td>...</td>\n      <td>0</td>\n      <td>0</td>\n      <td>0</td>\n      <td>0</td>\n      <td>2</td>\n      <td>2008</td>\n      <td>WD</td>\n      <td>Normal</td>\n      <td>208500.0</td>\n      <td>1</td>\n    </tr>\n    <tr>\n      <th>1</th>\n      <td>20</td>\n      <td>RL</td>\n      <td>80.0</td>\n      <td>9600</td>\n      <td>Pave</td>\n      <td>Reg</td>\n      <td>Lvl</td>\n      <td>AllPub</td>\n      <td>FR2</td>\n      <td>Gtl</td>\n      <td>...</td>\n      <td>0</td>\n      <td>0</td>\n      <td>0</td>\n      <td>0</td>\n      <td>5</td>\n      <td>2007</td>\n      <td>WD</td>\n      <td>Normal</td>\n      <td>181500.0</td>\n      <td>1</td>\n    </tr>\n    <tr>\n      <th>2</th>\n      <td>60</td>\n      <td>RL</td>\n      <td>68.0</td>\n      <td>11250</td>\n      <td>Pave</td>\n      <td>IR1</td>\n      <td>Lvl</td>\n      <td>AllPub</td>\n      <td>Inside</td>\n      <td>Gtl</td>\n      <td>...</td>\n      <td>0</td>\n      <td>0</td>\n      <td>0</td>\n      <td>0</td>\n      <td>9</td>\n      <td>2008</td>\n      <td>WD</td>\n      <td>Normal</td>\n      <td>223500.0</td>\n      <td>1</td>\n    </tr>\n    <tr>\n      <th>3</th>\n      <td>70</td>\n      <td>RL</td>\n      <td>60.0</td>\n      <td>9550</td>\n      <td>Pave</td>\n      <td>IR1</td>\n      <td>Lvl</td>\n      <td>AllPub</td>\n      <td>Corner</td>\n      <td>Gtl</td>\n      <td>...</td>\n      <td>0</td>\n      <td>0</td>\n      <td>0</td>\n      <td>0</td>\n      <td>2</td>\n      <td>2006</td>\n      <td>WD</td>\n      <td>Abnorml</td>\n      <td>140000.0</td>\n      <td>1</td>\n    </tr>\n    <tr>\n      <th>4</th>\n      <td>60</td>\n      <td>RL</td>\n      <td>84.0</td>\n      <td>14260</td>\n      <td>Pave</td>\n      <td>IR1</td>\n      <td>Lvl</td>\n      <td>AllPub</td>\n      <td>FR2</td>\n      <td>Gtl</td>\n      <td>...</td>\n      <td>0</td>\n      <td>0</td>\n      <td>0</td>\n      <td>0</td>\n      <td>12</td>\n      <td>2008</td>\n      <td>WD</td>\n      <td>Normal</td>\n      <td>250000.0</td>\n      <td>1</td>\n    </tr>\n  </tbody>\n</table>\n<p>5 rows × 77 columns</p>\n</div>"
     },
     "execution_count": 431,
     "metadata": {},
     "output_type": "execute_result"
    }
   ],
   "source": [
    "data.head()"
   ]
  },
  {
   "cell_type": "markdown",
   "metadata": {},
   "source": [
    "For those features with < 50% missing values, we can use impute methods. <br>\n",
    "Missing numerical values can be imputed with a constant value, or some statistics (mean, median or most frequent) of each column in which the missing values are located. <br>\n",
    "Missing categorical/non-numeric values can be imputed with the most frequent category, or a new category-'nothing' <br>\n",
    "sk-learn has `KNNImputer` method that you may try."
   ]
  },
  {
   "cell_type": "code",
   "execution_count": 432,
   "metadata": {
    "scrolled": false
   },
   "outputs": [],
   "source": [
    "numerical_column=[]\n",
    "categorical_column=[]\n",
    "for c in data.columns:\n",
    "    v=data[c]\n",
    "    v=v[~v.isnull()]\n",
    "    if data[c].dtype == np.dtype('O'): # non-numeric values       \n",
    "        #data[c]=data[c].fillna(v.value_counts().index[0]) # the most frequent category\n",
    "        data[c]=data[c].fillna('nothing') # a new category         \n",
    "        categorical_column.append(c)\n",
    "    else: # numeric \n",
    "        if c != 'train' and c != 'SalePrice':\n",
    "            data[c]=data[c].fillna(v.median()) \n",
    "        numerical_column.append(c)        "
   ]
  },
  {
   "cell_type": "markdown",
   "metadata": {},
   "source": [
    "check if there is any missing value"
   ]
  },
  {
   "cell_type": "code",
   "execution_count": 433,
   "metadata": {},
   "outputs": [
    {
     "data": {
      "text/plain": "Empty DataFrame\nColumns: [MSSubClass, MSZoning, LotFrontage, LotArea, Street, LotShape, LandContour, Utilities, LotConfig, LandSlope, Neighborhood, Condition1, Condition2, BldgType, HouseStyle, OverallQual, OverallCond, YearBuilt, YearRemodAdd, RoofStyle, RoofMatl, Exterior1st, Exterior2nd, MasVnrType, MasVnrArea, ExterQual, ExterCond, Foundation, BsmtQual, BsmtCond, BsmtExposure, BsmtFinType1, BsmtFinSF1, BsmtFinType2, BsmtFinSF2, BsmtUnfSF, TotalBsmtSF, Heating, HeatingQC, CentralAir, Electrical, 1stFlrSF, 2ndFlrSF, LowQualFinSF, GrLivArea, BsmtFullBath, BsmtHalfBath, FullBath, HalfBath, BedroomAbvGr, KitchenAbvGr, KitchenQual, TotRmsAbvGrd, Functional, Fireplaces, FireplaceQu, GarageType, GarageYrBlt, GarageFinish, GarageCars, GarageArea, GarageQual, GarageCond, PavedDrive, WoodDeckSF, OpenPorchSF, EnclosedPorch, 3SsnPorch, ScreenPorch, PoolArea, MiscVal, MoSold, YrSold, SaleType, SaleCondition, SalePrice, train]\nIndex: []\n\n[0 rows x 77 columns]",
      "text/html": "<div>\n<style scoped>\n    .dataframe tbody tr th:only-of-type {\n        vertical-align: middle;\n    }\n\n    .dataframe tbody tr th {\n        vertical-align: top;\n    }\n\n    .dataframe thead th {\n        text-align: right;\n    }\n</style>\n<table border=\"1\" class=\"dataframe\">\n  <thead>\n    <tr style=\"text-align: right;\">\n      <th></th>\n      <th>MSSubClass</th>\n      <th>MSZoning</th>\n      <th>LotFrontage</th>\n      <th>LotArea</th>\n      <th>Street</th>\n      <th>LotShape</th>\n      <th>LandContour</th>\n      <th>Utilities</th>\n      <th>LotConfig</th>\n      <th>LandSlope</th>\n      <th>...</th>\n      <th>3SsnPorch</th>\n      <th>ScreenPorch</th>\n      <th>PoolArea</th>\n      <th>MiscVal</th>\n      <th>MoSold</th>\n      <th>YrSold</th>\n      <th>SaleType</th>\n      <th>SaleCondition</th>\n      <th>SalePrice</th>\n      <th>train</th>\n    </tr>\n  </thead>\n  <tbody>\n  </tbody>\n</table>\n<p>0 rows × 77 columns</p>\n</div>"
     },
     "execution_count": 433,
     "metadata": {},
     "output_type": "execute_result"
    }
   ],
   "source": [
    "data[data.isnull().any(axis=1)]"
   ]
  },
  {
   "cell_type": "markdown",
   "metadata": {},
   "source": [
    "convert categorical values to numerical values using one-hot encoding <br>\n",
    "note: there are other methods to encode categorical values"
   ]
  },
  {
   "cell_type": "code",
   "execution_count": 434,
   "metadata": {},
   "outputs": [
    {
     "data": {
      "text/plain": "(2919, 296)"
     },
     "execution_count": 434,
     "metadata": {},
     "output_type": "execute_result"
    }
   ],
   "source": [
    "data=pd.get_dummies(data, columns=categorical_column)\n",
    "data.shape"
   ]
  },
  {
   "cell_type": "code",
   "execution_count": 435,
   "metadata": {},
   "outputs": [
    {
     "data": {
      "text/plain": "   MSSubClass  LotFrontage  LotArea  OverallQual  OverallCond  YearBuilt  \\\n0          60         65.0     8450            7            5       2003   \n1          20         80.0     9600            6            8       1976   \n2          60         68.0    11250            7            5       2001   \n3          70         60.0     9550            7            5       1915   \n4          60         84.0    14260            8            5       2000   \n\n   YearRemodAdd  MasVnrArea  BsmtFinSF1  BsmtFinSF2  ...  SaleType_New  \\\n0          2003       196.0       706.0         0.0  ...             0   \n1          1976         0.0       978.0         0.0  ...             0   \n2          2002       162.0       486.0         0.0  ...             0   \n3          1970         0.0       216.0         0.0  ...             0   \n4          2000       350.0       655.0         0.0  ...             0   \n\n   SaleType_Oth  SaleType_WD  SaleType_nothing  SaleCondition_Abnorml  \\\n0             0            1                 0                      0   \n1             0            1                 0                      0   \n2             0            1                 0                      0   \n3             0            1                 0                      1   \n4             0            1                 0                      0   \n\n   SaleCondition_AdjLand  SaleCondition_Alloca  SaleCondition_Family  \\\n0                      0                     0                     0   \n1                      0                     0                     0   \n2                      0                     0                     0   \n3                      0                     0                     0   \n4                      0                     0                     0   \n\n   SaleCondition_Normal  SaleCondition_Partial  \n0                     1                      0  \n1                     1                      0  \n2                     1                      0  \n3                     0                      0  \n4                     1                      0  \n\n[5 rows x 296 columns]",
      "text/html": "<div>\n<style scoped>\n    .dataframe tbody tr th:only-of-type {\n        vertical-align: middle;\n    }\n\n    .dataframe tbody tr th {\n        vertical-align: top;\n    }\n\n    .dataframe thead th {\n        text-align: right;\n    }\n</style>\n<table border=\"1\" class=\"dataframe\">\n  <thead>\n    <tr style=\"text-align: right;\">\n      <th></th>\n      <th>MSSubClass</th>\n      <th>LotFrontage</th>\n      <th>LotArea</th>\n      <th>OverallQual</th>\n      <th>OverallCond</th>\n      <th>YearBuilt</th>\n      <th>YearRemodAdd</th>\n      <th>MasVnrArea</th>\n      <th>BsmtFinSF1</th>\n      <th>BsmtFinSF2</th>\n      <th>...</th>\n      <th>SaleType_New</th>\n      <th>SaleType_Oth</th>\n      <th>SaleType_WD</th>\n      <th>SaleType_nothing</th>\n      <th>SaleCondition_Abnorml</th>\n      <th>SaleCondition_AdjLand</th>\n      <th>SaleCondition_Alloca</th>\n      <th>SaleCondition_Family</th>\n      <th>SaleCondition_Normal</th>\n      <th>SaleCondition_Partial</th>\n    </tr>\n  </thead>\n  <tbody>\n    <tr>\n      <th>0</th>\n      <td>60</td>\n      <td>65.0</td>\n      <td>8450</td>\n      <td>7</td>\n      <td>5</td>\n      <td>2003</td>\n      <td>2003</td>\n      <td>196.0</td>\n      <td>706.0</td>\n      <td>0.0</td>\n      <td>...</td>\n      <td>0</td>\n      <td>0</td>\n      <td>1</td>\n      <td>0</td>\n      <td>0</td>\n      <td>0</td>\n      <td>0</td>\n      <td>0</td>\n      <td>1</td>\n      <td>0</td>\n    </tr>\n    <tr>\n      <th>1</th>\n      <td>20</td>\n      <td>80.0</td>\n      <td>9600</td>\n      <td>6</td>\n      <td>8</td>\n      <td>1976</td>\n      <td>1976</td>\n      <td>0.0</td>\n      <td>978.0</td>\n      <td>0.0</td>\n      <td>...</td>\n      <td>0</td>\n      <td>0</td>\n      <td>1</td>\n      <td>0</td>\n      <td>0</td>\n      <td>0</td>\n      <td>0</td>\n      <td>0</td>\n      <td>1</td>\n      <td>0</td>\n    </tr>\n    <tr>\n      <th>2</th>\n      <td>60</td>\n      <td>68.0</td>\n      <td>11250</td>\n      <td>7</td>\n      <td>5</td>\n      <td>2001</td>\n      <td>2002</td>\n      <td>162.0</td>\n      <td>486.0</td>\n      <td>0.0</td>\n      <td>...</td>\n      <td>0</td>\n      <td>0</td>\n      <td>1</td>\n      <td>0</td>\n      <td>0</td>\n      <td>0</td>\n      <td>0</td>\n      <td>0</td>\n      <td>1</td>\n      <td>0</td>\n    </tr>\n    <tr>\n      <th>3</th>\n      <td>70</td>\n      <td>60.0</td>\n      <td>9550</td>\n      <td>7</td>\n      <td>5</td>\n      <td>1915</td>\n      <td>1970</td>\n      <td>0.0</td>\n      <td>216.0</td>\n      <td>0.0</td>\n      <td>...</td>\n      <td>0</td>\n      <td>0</td>\n      <td>1</td>\n      <td>0</td>\n      <td>1</td>\n      <td>0</td>\n      <td>0</td>\n      <td>0</td>\n      <td>0</td>\n      <td>0</td>\n    </tr>\n    <tr>\n      <th>4</th>\n      <td>60</td>\n      <td>84.0</td>\n      <td>14260</td>\n      <td>8</td>\n      <td>5</td>\n      <td>2000</td>\n      <td>2000</td>\n      <td>350.0</td>\n      <td>655.0</td>\n      <td>0.0</td>\n      <td>...</td>\n      <td>0</td>\n      <td>0</td>\n      <td>1</td>\n      <td>0</td>\n      <td>0</td>\n      <td>0</td>\n      <td>0</td>\n      <td>0</td>\n      <td>1</td>\n      <td>0</td>\n    </tr>\n  </tbody>\n</table>\n<p>5 rows × 296 columns</p>\n</div>"
     },
     "execution_count": 435,
     "metadata": {},
     "output_type": "execute_result"
    }
   ],
   "source": [
    "#the table has many new columns\n",
    "data.head()"
   ]
  },
  {
   "cell_type": "markdown",
   "metadata": {},
   "source": [
    "### get training data and test data from `data`"
   ]
  },
  {
   "cell_type": "code",
   "execution_count": 436,
   "metadata": {},
   "outputs": [],
   "source": [
    "data_train = data[data['train']==1]\n",
    "X_train=data_train.drop(columns=['SalePrice', 'train']).values\n",
    "Y_train=data_train['SalePrice'].values"
   ]
  },
  {
   "cell_type": "code",
   "execution_count": 437,
   "metadata": {},
   "outputs": [
    {
     "data": {
      "text/plain": "dtype('float64')"
     },
     "execution_count": 437,
     "metadata": {},
     "output_type": "execute_result"
    }
   ],
   "source": [
    "X_train.dtype"
   ]
  },
  {
   "cell_type": "code",
   "execution_count": 438,
   "metadata": {},
   "outputs": [
    {
     "data": {
      "text/plain": "(1460, 294)"
     },
     "execution_count": 438,
     "metadata": {},
     "output_type": "execute_result"
    }
   ],
   "source": [
    "X_train.shape"
   ]
  },
  {
   "cell_type": "code",
   "execution_count": 439,
   "metadata": {},
   "outputs": [
    {
     "data": {
      "text/plain": "dtype('float64')"
     },
     "execution_count": 439,
     "metadata": {},
     "output_type": "execute_result"
    }
   ],
   "source": [
    "Y_train.dtype"
   ]
  },
  {
   "cell_type": "code",
   "execution_count": 440,
   "metadata": {},
   "outputs": [],
   "source": [
    "data_test = data[data['train']==0]\n",
    "X_test=data_test.drop(columns=['SalePrice', 'train']).values\n",
    "Y_test=data_test['SalePrice'].values"
   ]
  },
  {
   "cell_type": "markdown",
   "metadata": {},
   "source": [
    "### show the histograms of prices in the training set and test set"
   ]
  },
  {
   "cell_type": "code",
   "execution_count": 441,
   "metadata": {},
   "outputs": [
    {
     "data": {
      "text/plain": "Text(0.5, 1.0, 'histogram of SalePrice in training set')"
     },
     "execution_count": 441,
     "metadata": {},
     "output_type": "execute_result"
    },
    {
     "data": {
      "text/plain": "<Figure size 432x288 with 1 Axes>",
      "image/png": "[encoded data removed]"
     },
     "metadata": {
      "needs_background": "light"
     },
     "output_type": "display_data"
    }
   ],
   "source": [
    "fig, ax = plt.subplots()\n",
    "ax.hist(data_train.SalePrice.values, bins=100);\n",
    "ax.set_title('histogram of SalePrice in training set')"
   ]
  },
  {
   "cell_type": "code",
   "execution_count": 442,
   "metadata": {},
   "outputs": [
    {
     "data": {
      "text/plain": "Text(0.5, 1.0, 'histogram of SalePrice in test set')"
     },
     "execution_count": 442,
     "metadata": {},
     "output_type": "execute_result"
    },
    {
     "data": {
      "text/plain": "<Figure size 432x288 with 1 Axes>",
      "image/png": "[encoded data removed]"
     },
     "metadata": {
      "needs_background": "light"
     },
     "output_type": "display_data"
    }
   ],
   "source": [
    "fig, ax = plt.subplots()\n",
    "ax.hist(data_test.SalePrice.values, bins=100);\n",
    "ax.set_title('histogram of SalePrice in test set')"
   ]
  },
  {
   "cell_type": "markdown",
   "metadata": {},
   "source": [
    "# Your work begins here"
   ]
  },
  {
   "cell_type": "markdown",
   "metadata": {},
   "source": [
    "### (1) LinearRegression model (Linear)"
   ]
  },
  {
   "cell_type": "code",
   "execution_count": 443,
   "metadata": {},
   "outputs": [],
   "source": [
    "from sklearn.linear_model import LinearRegression\n",
    "\n",
    "#define a linear regression model using LinearRegression\n",
    "model = LinearRegression()\n",
    "\n",
    "#train/fit the model on the training set\n",
    "model.fit(X_train, Y_train)\n",
    "\n",
    "#make predictions on the training and test set\n",
    "Y_train_pred = model.predict(X_train)\n",
    "Y_test_pred = model.predict((X_test))"
   ]
  },
  {
   "cell_type": "markdown",
   "metadata": {},
   "source": [
    "show the training result"
   ]
  },
  {
   "cell_type": "code",
   "execution_count": 444,
   "metadata": {},
   "outputs": [
    {
     "name": "stdout",
     "output_type": "stream",
     "text": [
      "MSE= 432903814.899013\n",
      "MAE= 13380.819249124623\n",
      "MAPE= 0.0788992766025091\n"
     ]
    },
    {
     "data": {
      "text/plain": "[<matplotlib.lines.Line2D at 0x12ddda4d0>]"
     },
     "execution_count": 444,
     "metadata": {},
     "output_type": "execute_result"
    },
    {
     "data": {
      "text/plain": "<Figure size 432x288 with 1 Axes>",
      "image/png": "[encoded data removed]"
     },
     "metadata": {
      "needs_background": "light"
     },
     "output_type": "display_data"
    }
   ],
   "source": [
    "#calculate and print MSE, MAE and MAPE using predictions on training set\n",
    "MSE = np.mean((Y_train - Y_train_pred)**2)\n",
    "MAE = np.mean(np.abs(Y_train - Y_train_pred))\n",
    "MAPE =  np.mean(np.abs(Y_train - Y_train_pred)/Y_train)\n",
    "print('MSE=', MSE)\n",
    "print('MAE=', MAE)\n",
    "print('MAPE=', MAPE)\n",
    "\n",
    "#then plot Y_train vs Y_train_pred (blue dots) and the 45-degree line (red)\n",
    "fig, ax = plt.subplots()\n",
    "x_45_degree_line=np.linspace(0, Y_test.max(), 100)\n",
    "x_45_degree_line=np.linspace(0, Y_test.max(), 100)\n",
    "ax.plot(x_45_degree_line, x_45_degree_line, '-r')\n",
    "ax.plot(Y_train, Y_train_pred, '.b')\n"
   ]
  },
  {
   "cell_type": "markdown",
   "metadata": {},
   "source": [
    "show the test result"
   ]
  },
  {
   "cell_type": "code",
   "execution_count": 445,
   "metadata": {},
   "outputs": [
    {
     "name": "stdout",
     "output_type": "stream",
     "text": [
      "MSE= 432903814.899013\n",
      "MAE= 13380.819249124623\n",
      "MAPE= 0.0788992766025091\n"
     ]
    },
    {
     "data": {
      "text/plain": "[<matplotlib.lines.Line2D at 0x12de44650>]"
     },
     "execution_count": 445,
     "metadata": {},
     "output_type": "execute_result"
    },
    {
     "data": {
      "text/plain": "<Figure size 432x288 with 1 Axes>",
      "image/png": "[encoded data removed]"
     },
     "metadata": {
      "needs_background": "light"
     },
     "output_type": "display_data"
    }
   ],
   "source": [
    "#calculate and print MSE, MAE and MAPE using predictions on test set\n",
    "lMSE = np.mean((Y_test - Y_test_pred)**2)\n",
    "lMAE = np.mean(np.abs(Y_test - Y_test_pred))\n",
    "lMAPE =  np.mean(np.abs(Y_test - Y_test_pred)/Y_test)\n",
    "print('MSE=', MSE)\n",
    "print('MAE=', MAE)\n",
    "print('MAPE=', MAPE)\n",
    "\n",
    "#then plot Y_test vs Y_test_pred (blue dots) and the 45-degree line (red)\n",
    "fig, ax = plt.subplots()\n",
    "x_45_degree_line=np.linspace(0, Y_test.max(), 100)\n",
    "x_45_degree_line=np.linspace(0, Y_test.max(), 100)\n",
    "ax.plot(x_45_degree_line, x_45_degree_line, '-r')\n",
    "ax.plot(Y_test, Y_test_pred, '.b')"
   ]
  },
  {
   "cell_type": "markdown",
   "metadata": {},
   "source": [
    "### (2) nonlinear model: KNeighborsRegressor (KNN)"
   ]
  },
  {
   "cell_type": "code",
   "execution_count": 446,
   "metadata": {},
   "outputs": [],
   "source": [
    "from sklearn.neighbors import KNeighborsRegressor\n",
    "\n",
    "#define a KNN model using KNeighborsRegressor\n",
    "#set n_neighbors=5\n",
    "knn = KNeighborsRegressor(n_neighbors = 5)\n",
    "\n",
    "#train/fit the model on the training set\n",
    "knn.fit(X_train, Y_train)\n",
    "\n",
    "#make predictions on the training and test set\n",
    "Y_train_pred = knn.predict(X_train)\n",
    "Y_test_pred = knn.predict(X_test)\n"
   ]
  },
  {
   "cell_type": "markdown",
   "metadata": {},
   "source": [
    "show the training result"
   ]
  },
  {
   "cell_type": "code",
   "execution_count": 447,
   "metadata": {},
   "outputs": [
    {
     "name": "stdout",
     "output_type": "stream",
     "text": [
      "MSE= 1354710184.3804932\n",
      "MAE= 23249.926301369866\n",
      "MAPE= 0.1364011754648816\n"
     ]
    },
    {
     "data": {
      "text/plain": "[<matplotlib.lines.Line2D at 0x12deadd10>]"
     },
     "execution_count": 447,
     "metadata": {},
     "output_type": "execute_result"
    },
    {
     "data": {
      "text/plain": "<Figure size 432x288 with 1 Axes>",
      "image/png": "[encoded data removed]"
     },
     "metadata": {
      "needs_background": "light"
     },
     "output_type": "display_data"
    }
   ],
   "source": [
    "#calculate and print MSE, MAE and MAPE using predictions on training set\n",
    "MSE = np.mean((Y_train - Y_train_pred)**2)\n",
    "MAE = np.mean(np.abs(Y_train - Y_train_pred))\n",
    "MAPE =  np.mean(np.abs(Y_train - Y_train_pred)/Y_train)\n",
    "print('MSE=', MSE)\n",
    "print('MAE=', MAE)\n",
    "print('MAPE=', MAPE)\n",
    "\n",
    "#then plot Y_train vs Y_train_pred (blue dots) and the 45-degree line (red)\n",
    "fig, ax = plt.subplots()\n",
    "x_45_degree_line=np.linspace(0, Y_test.max(), 100)\n",
    "x_45_degree_line=np.linspace(0, Y_test.max(), 100)\n",
    "ax.plot(x_45_degree_line, x_45_degree_line, '-r')\n",
    "ax.plot(Y_train, Y_train_pred, '.b')"
   ]
  },
  {
   "cell_type": "markdown",
   "metadata": {},
   "source": [
    "show the test result"
   ]
  },
  {
   "cell_type": "code",
   "execution_count": 448,
   "metadata": {},
   "outputs": [
    {
     "name": "stdout",
     "output_type": "stream",
     "text": [
      "MSE= 1918276961.5553465\n",
      "MAE= 25973.916404203963\n",
      "MAPE= 0.15209840378677697\n"
     ]
    },
    {
     "data": {
      "text/plain": "[<matplotlib.lines.Line2D at 0x12df17e50>]"
     },
     "execution_count": 448,
     "metadata": {},
     "output_type": "execute_result"
    },
    {
     "data": {
      "text/plain": "<Figure size 432x288 with 1 Axes>",
      "image/png": "[encoded data removed]"
     },
     "metadata": {
      "needs_background": "light"
     },
     "output_type": "display_data"
    }
   ],
   "source": [
    "#calculate and print MSE, MAE and MAPE using predictions on test set\n",
    "kMSE = np.mean((Y_test - Y_test_pred)**2)\n",
    "kMAE = np.mean(np.abs(Y_test - Y_test_pred))\n",
    "kMAPE =  np.mean(np.abs(Y_test - Y_test_pred)/Y_test)\n",
    "print('MSE=', kMSE)\n",
    "print('MAE=', kMAE)\n",
    "print('MAPE=', kMAPE)\n",
    "\n",
    "#then plot Y_test vs Y_test_pred (blue dots) and the 45-degree line (red)\n",
    "fig, ax = plt.subplots()\n",
    "x_45_degree_line=np.linspace(0, Y_test.max(), 100)\n",
    "x_45_degree_line=np.linspace(0, Y_test.max(), 100)\n",
    "ax.plot(x_45_degree_line, x_45_degree_line, '-r')\n",
    "ax.plot(Y_test, Y_test_pred, '.b')"
   ]
  },
  {
   "cell_type": "markdown",
   "metadata": {},
   "source": [
    "### (3) nonlinear model:  RandomForestRegressor  (RF)"
   ]
  },
  {
   "cell_type": "code",
   "execution_count": 449,
   "metadata": {},
   "outputs": [],
   "source": [
    "from sklearn.ensemble import RandomForestRegressor\n",
    "\n",
    "#define a random forest model using RandomForestRegressor\n",
    "#set n_estimators=100, max_depth=20, random_state=0\n",
    "RF = RandomForestRegressor(n_estimators=100, max_depth=20, random_state=0)\n",
    "# RF = RandomForestClassifier(n_estimators=100, max_depth=20, random_state=0)\n",
    "\n",
    "#train/fit the model on the training set\n",
    "RF.fit(X_train, Y_train)\n",
    "\n",
    "#make predictions on the training and test set\n",
    "Y_train_pred = RF.predict(X_train)\n",
    "Y_test_pred = RF.predict(X_test)\n"
   ]
  },
  {
   "cell_type": "markdown",
   "metadata": {},
   "source": [
    "show the training result"
   ]
  },
  {
   "cell_type": "code",
   "execution_count": 450,
   "metadata": {},
   "outputs": [
    {
     "name": "stdout",
     "output_type": "stream",
     "text": [
      "MSE= 123007238.12766577\n",
      "MAE= 6576.597177611581\n",
      "MAPE= 0.03808244940576383\n"
     ]
    },
    {
     "data": {
      "text/plain": "[<matplotlib.lines.Line2D at 0x12df7ed10>]"
     },
     "execution_count": 450,
     "metadata": {},
     "output_type": "execute_result"
    },
    {
     "data": {
      "text/plain": "<Figure size 432x288 with 1 Axes>",
      "image/png": "[encoded data removed]"
     },
     "metadata": {
      "needs_background": "light"
     },
     "output_type": "display_data"
    }
   ],
   "source": [
    "#calculate and print MSE, MAE and MAPE using predictions on training set\n",
    "MSE = np.mean((Y_train - Y_train_pred)**2)\n",
    "MAE = np.mean(np.abs(Y_train - Y_train_pred))\n",
    "MAPE =  np.mean(np.abs(Y_train - Y_train_pred)/Y_train)\n",
    "print('MSE=', MSE)\n",
    "print('MAE=', MAE)\n",
    "print('MAPE=', MAPE)\n",
    "\n",
    "#then plot Y_train vs Y_train_pred (blue dots) and the 45-degree line (red)\n",
    "fig, ax = plt.subplots()\n",
    "x_45_degree_line=np.linspace(0, Y_test.max(), 100)\n",
    "x_45_degree_line=np.linspace(0, Y_test.max(), 100)\n",
    "ax.plot(x_45_degree_line, x_45_degree_line, '-r')\n",
    "ax.plot(Y_train, Y_train_pred, '.b')\n",
    "\n"
   ]
  },
  {
   "cell_type": "markdown",
   "metadata": {},
   "source": [
    "show the test result"
   ]
  },
  {
   "cell_type": "code",
   "execution_count": 451,
   "metadata": {},
   "outputs": [
    {
     "name": "stdout",
     "output_type": "stream",
     "text": [
      "MSE= 600643027.7173524\n",
      "MAE= 10581.38178894092\n",
      "MAPE= 0.05956198577838548\n",
      "[      0.           11192.92950628   22385.85901256   33578.78851885\n",
      "   44771.71802513   55964.64753141   67157.57703769   78350.50654397\n",
      "   89543.43605026  100736.36555654  111929.29506282  123122.2245691\n",
      "  134315.15407538  145508.08358167  156701.01308795  167893.94259423\n",
      "  179086.87210051  190279.80160679  201472.73111307  212665.66061936\n",
      "  223858.59012564  235051.51963192  246244.4491382   257437.37864448\n",
      "  268630.30815077  279823.23765705  291016.16716333  302209.09666961\n",
      "  313402.02617589  324594.95568218  335787.88518846  346980.81469474\n",
      "  358173.74420102  369366.6737073   380559.60321359  391752.53271987\n",
      "  402945.46222615  414138.39173243  425331.32123871  436524.250745\n",
      "  447717.18025128  458910.10975756  470103.03926384  481295.96877012\n",
      "  492488.89827641  503681.82778269  514874.75728897  526067.68679525\n",
      "  537260.61630153  548453.54580781  559646.4753141   570839.40482038\n",
      "  582032.33432666  593225.26383294  604418.19333922  615611.12284551\n",
      "  626804.05235179  637996.98185807  649189.91136435  660382.84087063\n",
      "  671575.77037692  682768.6998832   693961.62938948  705154.55889576\n",
      "  716347.48840204  727540.41790833  738733.34741461  749926.27692089\n",
      "  761119.20642717  772312.13593345  783505.06543974  794697.99494602\n",
      "  805890.9244523   817083.85395858  828276.78346486  839469.71297115\n",
      "  850662.64247743  861855.57198371  873048.50148999  884241.43099627\n",
      "  895434.36050256  906627.29000884  917820.21951512  929013.1490214\n",
      "  940206.07852768  951399.00803396  962591.93754025  973784.86704653\n",
      "  984977.79655281  996170.72605909 1007363.65556537 1018556.58507166\n",
      " 1029749.51457794 1040942.44408422 1052135.3735905  1063328.30309678\n",
      " 1074521.23260307 1085714.16210935 1096907.09161563 1108100.02112191] [      0.           11192.92950628   22385.85901256   33578.78851885\n",
      "   44771.71802513   55964.64753141   67157.57703769   78350.50654397\n",
      "   89543.43605026  100736.36555654  111929.29506282  123122.2245691\n",
      "  134315.15407538  145508.08358167  156701.01308795  167893.94259423\n",
      "  179086.87210051  190279.80160679  201472.73111307  212665.66061936\n",
      "  223858.59012564  235051.51963192  246244.4491382   257437.37864448\n",
      "  268630.30815077  279823.23765705  291016.16716333  302209.09666961\n",
      "  313402.02617589  324594.95568218  335787.88518846  346980.81469474\n",
      "  358173.74420102  369366.6737073   380559.60321359  391752.53271987\n",
      "  402945.46222615  414138.39173243  425331.32123871  436524.250745\n",
      "  447717.18025128  458910.10975756  470103.03926384  481295.96877012\n",
      "  492488.89827641  503681.82778269  514874.75728897  526067.68679525\n",
      "  537260.61630153  548453.54580781  559646.4753141   570839.40482038\n",
      "  582032.33432666  593225.26383294  604418.19333922  615611.12284551\n",
      "  626804.05235179  637996.98185807  649189.91136435  660382.84087063\n",
      "  671575.77037692  682768.6998832   693961.62938948  705154.55889576\n",
      "  716347.48840204  727540.41790833  738733.34741461  749926.27692089\n",
      "  761119.20642717  772312.13593345  783505.06543974  794697.99494602\n",
      "  805890.9244523   817083.85395858  828276.78346486  839469.71297115\n",
      "  850662.64247743  861855.57198371  873048.50148999  884241.43099627\n",
      "  895434.36050256  906627.29000884  917820.21951512  929013.1490214\n",
      "  940206.07852768  951399.00803396  962591.93754025  973784.86704653\n",
      "  984977.79655281  996170.72605909 1007363.65556537 1018556.58507166\n",
      " 1029749.51457794 1040942.44408422 1052135.3735905  1063328.30309678\n",
      " 1074521.23260307 1085714.16210935 1096907.09161563 1108100.02112191]\n"
     ]
    },
    {
     "data": {
      "text/plain": "[<matplotlib.lines.Line2D at 0x12dff6090>]"
     },
     "execution_count": 451,
     "metadata": {},
     "output_type": "execute_result"
    },
    {
     "data": {
      "text/plain": "<Figure size 432x288 with 1 Axes>",
      "image/png": "[encoded data removed]"
     },
     "metadata": {
      "needs_background": "light"
     },
     "output_type": "display_data"
    }
   ],
   "source": [
    "#calculate and print MSE, MAE and MAPE using predictions on test set\n",
    "fMSE = np.mean((Y_test - Y_test_pred)**2)\n",
    "fMAE = np.mean(np.abs(Y_test - Y_test_pred))\n",
    "fMAPE =  np.mean(np.abs(Y_test - Y_test_pred)/Y_test)\n",
    "print('MSE=', fMSE)\n",
    "print('MAE=', fMAE)\n",
    "print('MAPE=', fMAPE)\n",
    "\n",
    "#then plot Y_test vs Y_test_pred (blue dots) and the 45-degree line (red)\n",
    "fig, ax = plt.subplots()\n",
    "x_45_degree_line=np.linspace(0, Y_test.max(), 100)\n",
    "x_45_degree_line=np.linspace(0, Y_test.max(), 100)\n",
    "print(x_45_degree_line, x_45_degree_line)\n",
    "ax.plot(x_45_degree_line, x_45_degree_line, '-r')\n",
    "ax.plot(Y_test, Y_test_pred, '.b')\n"
   ]
  },
  {
   "cell_type": "markdown",
   "metadata": {},
   "source": [
    "### make a table to show the performance of the three models on the test set\n",
    "table is pandas DataFrame"
   ]
  },
  {
   "cell_type": "code",
   "execution_count": 452,
   "metadata": {
    "scrolled": true
   },
   "outputs": [
    {
     "data": {
      "text/plain": "                 MSE           MAE      MAPE\nLinear  4.435649e+08  11916.279926  0.072442\nKNN     1.918277e+09  25973.916404  0.152098\nRF      6.006430e+08  10581.381789  0.059562",
      "text/html": "<div>\n<style scoped>\n    .dataframe tbody tr th:only-of-type {\n        vertical-align: middle;\n    }\n\n    .dataframe tbody tr th {\n        vertical-align: top;\n    }\n\n    .dataframe thead th {\n        text-align: right;\n    }\n</style>\n<table border=\"1\" class=\"dataframe\">\n  <thead>\n    <tr style=\"text-align: right;\">\n      <th></th>\n      <th>MSE</th>\n      <th>MAE</th>\n      <th>MAPE</th>\n    </tr>\n  </thead>\n  <tbody>\n    <tr>\n      <th>Linear</th>\n      <td>4.435649e+08</td>\n      <td>11916.279926</td>\n      <td>0.072442</td>\n    </tr>\n    <tr>\n      <th>KNN</th>\n      <td>1.918277e+09</td>\n      <td>25973.916404</td>\n      <td>0.152098</td>\n    </tr>\n    <tr>\n      <th>RF</th>\n      <td>6.006430e+08</td>\n      <td>10581.381789</td>\n      <td>0.059562</td>\n    </tr>\n  </tbody>\n</table>\n</div>"
     },
     "execution_count": 452,
     "metadata": {},
     "output_type": "execute_result"
    }
   ],
   "source": [
    "#make a pandas dataframe using MSE, MAE, MAPE values on the test set\n",
    "#column names are 'MSE', 'MAE', 'MAPE'\n",
    "#row names are 'Linear', 'KNN', 'RF'\n",
    "matrix= [[lMSE, lMAE, lMAPE],\n",
    "         [kMSE, kMAE, kMAPE],\n",
    "         [fMSE, fMAE, fMAPE]]\n",
    "\n",
    "df = pd.DataFrame(matrix,\n",
    "                  columns=['MSE', 'MAE', 'MAPE'],\n",
    "                  index=['Linear', 'KNN', 'RF'])\n",
    "df"
   ]
  },
  {
   "cell_type": "markdown",
   "metadata": {},
   "source": [
    "from the table, we can see that random forest (RF) is the best (MAPE is the smallest) <br>\n",
    "To futher improve the performance, you may need to find the optimal hyper parameters using training-validation. (it is not required)"
   ]
  }
 ],
 "metadata": {
  "kernelspec": {
   "display_name": "Python 3",
   "language": "python",
   "name": "python3"
  },
  "language_info": {
   "codemirror_mode": {
    "name": "ipython",
    "version": 3
   },
   "file_extension": ".py",
   "mimetype": "text/x-python",
   "name": "python",
   "nbconvert_exporter": "python",
   "pygments_lexer": "ipython3",
   "version": "3.8.5"
  }
 },
 "nbformat": 4,
 "nbformat_minor": 2
}